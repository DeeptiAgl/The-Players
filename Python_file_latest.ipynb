{
 "cells": [
  {
   "cell_type": "code",
   "execution_count": 556,
   "metadata": {
    "collapsed": false
   },
   "outputs": [],
   "source": [
    "import pandas as pd\n",
    "import numpy as np\n"
   ]
  },
  {
   "cell_type": "code",
   "execution_count": 603,
   "metadata": {
    "collapsed": false
   },
   "outputs": [
    {
     "data": {
      "text/plain": [
       "Index(['year', 'Tm', 'playoff_wins', 'world_series_ind', 'round', 'hit_numBat',\n",
       "       'hit_BatAge', 'hit_RG', 'hit_G', 'hit_PA', 'hit_AB', 'hit_R_scored',\n",
       "       'hit_H', 'hit_2B', 'hit_3B', 'hit_HR', 'hit_RBI', 'hit_SB', 'hit_CS',\n",
       "       'hit_BB', 'hit_SO', 'hit_BA', 'hit_OBP', 'hit_SLG', 'hit_OPS',\n",
       "       'hit_OPS+', 'hit_TB', 'hit_GDP', 'hit_HBP', 'hit_SH', 'hit_SF',\n",
       "       'hit_IBB', 'hit_LOB', 'pitch_numP', 'pitch_PAge', 'pitch_RAG',\n",
       "       'pitch_W', 'pitch_L', 'pitch_WL', 'pitch_ERA', 'pitch_G', 'pitch_GS',\n",
       "       'pitch_GF', 'pitch_CG', 'pitch_tSho', 'pitch_cSho', 'pitch_SV',\n",
       "       'pitch_IP', 'pitch_H', 'pitch_R_allowed', 'pitch_ER', 'pitch_HR',\n",
       "       'pitch_BB', 'pitch_IBB', 'pitch_SO', 'pitch_HBP', 'pitch_BK',\n",
       "       'pitch_WP', 'pitch_BF', 'pitch_ERAplus', 'pitch_FIP', 'pitch_WHIP',\n",
       "       'pitch_H9', 'pitch_HR9', 'pitch_BB9', 'pitch_SO9', 'pitch_SOW',\n",
       "       'pitch_LOB'],\n",
       "      dtype='object')"
      ]
     },
     "execution_count": 603,
     "metadata": {},
     "output_type": "execute_result"
    }
   ],
   "source": [
    "df=pd.read_csv(\"/home/rsingla1/project_data_latest.csv\")\n",
    "df1=pd.read_csv(\"/home/rsingla1/project_data_latest.csv\")\n",
    "\n",
    "df1.columns\n"
   ]
  },
  {
   "cell_type": "code",
   "execution_count": 625,
   "metadata": {
    "collapsed": false
   },
   "outputs": [
    {
     "data": {
      "text/html": [
       "<div>\n",
       "<table border=\"1\" class=\"dataframe\">\n",
       "  <thead>\n",
       "    <tr style=\"text-align: right;\">\n",
       "      <th></th>\n",
       "      <th>playoff_wins</th>\n",
       "      <th>performance</th>\n",
       "    </tr>\n",
       "  </thead>\n",
       "  <tbody>\n",
       "    <tr>\n",
       "      <th>0</th>\n",
       "      <td>11</td>\n",
       "      <td>3</td>\n",
       "    </tr>\n",
       "    <tr>\n",
       "      <th>1</th>\n",
       "      <td>0</td>\n",
       "      <td>0</td>\n",
       "    </tr>\n",
       "    <tr>\n",
       "      <th>2</th>\n",
       "      <td>3</td>\n",
       "      <td>1</td>\n",
       "    </tr>\n",
       "    <tr>\n",
       "      <th>3</th>\n",
       "      <td>9</td>\n",
       "      <td>2</td>\n",
       "    </tr>\n",
       "    <tr>\n",
       "      <th>4</th>\n",
       "      <td>1</td>\n",
       "      <td>0</td>\n",
       "    </tr>\n",
       "    <tr>\n",
       "      <th>5</th>\n",
       "      <td>0</td>\n",
       "      <td>0</td>\n",
       "    </tr>\n",
       "    <tr>\n",
       "      <th>6</th>\n",
       "      <td>2</td>\n",
       "      <td>0</td>\n",
       "    </tr>\n",
       "    <tr>\n",
       "      <th>7</th>\n",
       "      <td>5</td>\n",
       "      <td>1</td>\n",
       "    </tr>\n",
       "    <tr>\n",
       "      <th>8</th>\n",
       "      <td>9</td>\n",
       "      <td>2</td>\n",
       "    </tr>\n",
       "    <tr>\n",
       "      <th>9</th>\n",
       "      <td>4</td>\n",
       "      <td>1</td>\n",
       "    </tr>\n",
       "    <tr>\n",
       "      <th>10</th>\n",
       "      <td>1</td>\n",
       "      <td>0</td>\n",
       "    </tr>\n",
       "    <tr>\n",
       "      <th>11</th>\n",
       "      <td>0</td>\n",
       "      <td>0</td>\n",
       "    </tr>\n",
       "    <tr>\n",
       "      <th>12</th>\n",
       "      <td>11</td>\n",
       "      <td>3</td>\n",
       "    </tr>\n",
       "    <tr>\n",
       "      <th>13</th>\n",
       "      <td>0</td>\n",
       "      <td>0</td>\n",
       "    </tr>\n",
       "    <tr>\n",
       "      <th>14</th>\n",
       "      <td>5</td>\n",
       "      <td>1</td>\n",
       "    </tr>\n",
       "    <tr>\n",
       "      <th>15</th>\n",
       "      <td>1</td>\n",
       "      <td>0</td>\n",
       "    </tr>\n",
       "    <tr>\n",
       "      <th>16</th>\n",
       "      <td>5</td>\n",
       "      <td>1</td>\n",
       "    </tr>\n",
       "    <tr>\n",
       "      <th>17</th>\n",
       "      <td>5</td>\n",
       "      <td>1</td>\n",
       "    </tr>\n",
       "    <tr>\n",
       "      <th>18</th>\n",
       "      <td>10</td>\n",
       "      <td>2</td>\n",
       "    </tr>\n",
       "    <tr>\n",
       "      <th>19</th>\n",
       "      <td>0</td>\n",
       "      <td>0</td>\n",
       "    </tr>\n",
       "    <tr>\n",
       "      <th>20</th>\n",
       "      <td>2</td>\n",
       "      <td>0</td>\n",
       "    </tr>\n",
       "    <tr>\n",
       "      <th>21</th>\n",
       "      <td>1</td>\n",
       "      <td>0</td>\n",
       "    </tr>\n",
       "    <tr>\n",
       "      <th>22</th>\n",
       "      <td>0</td>\n",
       "      <td>0</td>\n",
       "    </tr>\n",
       "    <tr>\n",
       "      <th>23</th>\n",
       "      <td>5</td>\n",
       "      <td>1</td>\n",
       "    </tr>\n",
       "    <tr>\n",
       "      <th>24</th>\n",
       "      <td>1</td>\n",
       "      <td>0</td>\n",
       "    </tr>\n",
       "    <tr>\n",
       "      <th>25</th>\n",
       "      <td>0</td>\n",
       "      <td>0</td>\n",
       "    </tr>\n",
       "    <tr>\n",
       "      <th>26</th>\n",
       "      <td>5</td>\n",
       "      <td>1</td>\n",
       "    </tr>\n",
       "    <tr>\n",
       "      <th>27</th>\n",
       "      <td>1</td>\n",
       "      <td>0</td>\n",
       "    </tr>\n",
       "    <tr>\n",
       "      <th>28</th>\n",
       "      <td>11</td>\n",
       "      <td>3</td>\n",
       "    </tr>\n",
       "    <tr>\n",
       "      <th>29</th>\n",
       "      <td>7</td>\n",
       "      <td>2</td>\n",
       "    </tr>\n",
       "    <tr>\n",
       "      <th>...</th>\n",
       "      <td>...</td>\n",
       "      <td>...</td>\n",
       "    </tr>\n",
       "    <tr>\n",
       "      <th>145</th>\n",
       "      <td>2</td>\n",
       "      <td>0</td>\n",
       "    </tr>\n",
       "    <tr>\n",
       "      <th>146</th>\n",
       "      <td>9</td>\n",
       "      <td>2</td>\n",
       "    </tr>\n",
       "    <tr>\n",
       "      <th>147</th>\n",
       "      <td>11</td>\n",
       "      <td>3</td>\n",
       "    </tr>\n",
       "    <tr>\n",
       "      <th>148</th>\n",
       "      <td>5</td>\n",
       "      <td>1</td>\n",
       "    </tr>\n",
       "    <tr>\n",
       "      <th>149</th>\n",
       "      <td>2</td>\n",
       "      <td>0</td>\n",
       "    </tr>\n",
       "    <tr>\n",
       "      <th>150</th>\n",
       "      <td>1</td>\n",
       "      <td>0</td>\n",
       "    </tr>\n",
       "    <tr>\n",
       "      <th>151</th>\n",
       "      <td>3</td>\n",
       "      <td>1</td>\n",
       "    </tr>\n",
       "    <tr>\n",
       "      <th>152</th>\n",
       "      <td>0</td>\n",
       "      <td>0</td>\n",
       "    </tr>\n",
       "    <tr>\n",
       "      <th>153</th>\n",
       "      <td>10</td>\n",
       "      <td>2</td>\n",
       "    </tr>\n",
       "    <tr>\n",
       "      <th>154</th>\n",
       "      <td>0</td>\n",
       "      <td>0</td>\n",
       "    </tr>\n",
       "    <tr>\n",
       "      <th>155</th>\n",
       "      <td>1</td>\n",
       "      <td>0</td>\n",
       "    </tr>\n",
       "    <tr>\n",
       "      <th>156</th>\n",
       "      <td>11</td>\n",
       "      <td>3</td>\n",
       "    </tr>\n",
       "    <tr>\n",
       "      <th>157</th>\n",
       "      <td>4</td>\n",
       "      <td>1</td>\n",
       "    </tr>\n",
       "    <tr>\n",
       "      <th>158</th>\n",
       "      <td>1</td>\n",
       "      <td>0</td>\n",
       "    </tr>\n",
       "    <tr>\n",
       "      <th>159</th>\n",
       "      <td>3</td>\n",
       "      <td>1</td>\n",
       "    </tr>\n",
       "    <tr>\n",
       "      <th>160</th>\n",
       "      <td>2</td>\n",
       "      <td>0</td>\n",
       "    </tr>\n",
       "    <tr>\n",
       "      <th>161</th>\n",
       "      <td>11</td>\n",
       "      <td>3</td>\n",
       "    </tr>\n",
       "    <tr>\n",
       "      <th>162</th>\n",
       "      <td>2</td>\n",
       "      <td>0</td>\n",
       "    </tr>\n",
       "    <tr>\n",
       "      <th>163</th>\n",
       "      <td>8</td>\n",
       "      <td>2</td>\n",
       "    </tr>\n",
       "    <tr>\n",
       "      <th>164</th>\n",
       "      <td>1</td>\n",
       "      <td>0</td>\n",
       "    </tr>\n",
       "    <tr>\n",
       "      <th>165</th>\n",
       "      <td>2</td>\n",
       "      <td>0</td>\n",
       "    </tr>\n",
       "    <tr>\n",
       "      <th>166</th>\n",
       "      <td>5</td>\n",
       "      <td>1</td>\n",
       "    </tr>\n",
       "    <tr>\n",
       "      <th>167</th>\n",
       "      <td>0</td>\n",
       "      <td>0</td>\n",
       "    </tr>\n",
       "    <tr>\n",
       "      <th>168</th>\n",
       "      <td>11</td>\n",
       "      <td>3</td>\n",
       "    </tr>\n",
       "    <tr>\n",
       "      <th>169</th>\n",
       "      <td>10</td>\n",
       "      <td>2</td>\n",
       "    </tr>\n",
       "    <tr>\n",
       "      <th>170</th>\n",
       "      <td>5</td>\n",
       "      <td>1</td>\n",
       "    </tr>\n",
       "    <tr>\n",
       "      <th>171</th>\n",
       "      <td>1</td>\n",
       "      <td>0</td>\n",
       "    </tr>\n",
       "    <tr>\n",
       "      <th>172</th>\n",
       "      <td>0</td>\n",
       "      <td>0</td>\n",
       "    </tr>\n",
       "    <tr>\n",
       "      <th>173</th>\n",
       "      <td>4</td>\n",
       "      <td>1</td>\n",
       "    </tr>\n",
       "    <tr>\n",
       "      <th>174</th>\n",
       "      <td>2</td>\n",
       "      <td>0</td>\n",
       "    </tr>\n",
       "  </tbody>\n",
       "</table>\n",
       "<p>175 rows × 2 columns</p>\n",
       "</div>"
      ],
      "text/plain": [
       "     playoff_wins performance\n",
       "0              11           3\n",
       "1               0           0\n",
       "2               3           1\n",
       "3               9           2\n",
       "4               1           0\n",
       "5               0           0\n",
       "6               2           0\n",
       "7               5           1\n",
       "8               9           2\n",
       "9               4           1\n",
       "10              1           0\n",
       "11              0           0\n",
       "12             11           3\n",
       "13              0           0\n",
       "14              5           1\n",
       "15              1           0\n",
       "16              5           1\n",
       "17              5           1\n",
       "18             10           2\n",
       "19              0           0\n",
       "20              2           0\n",
       "21              1           0\n",
       "22              0           0\n",
       "23              5           1\n",
       "24              1           0\n",
       "25              0           0\n",
       "26              5           1\n",
       "27              1           0\n",
       "28             11           3\n",
       "29              7           2\n",
       "..            ...         ...\n",
       "145             2           0\n",
       "146             9           2\n",
       "147            11           3\n",
       "148             5           1\n",
       "149             2           0\n",
       "150             1           0\n",
       "151             3           1\n",
       "152             0           0\n",
       "153            10           2\n",
       "154             0           0\n",
       "155             1           0\n",
       "156            11           3\n",
       "157             4           1\n",
       "158             1           0\n",
       "159             3           1\n",
       "160             2           0\n",
       "161            11           3\n",
       "162             2           0\n",
       "163             8           2\n",
       "164             1           0\n",
       "165             2           0\n",
       "166             5           1\n",
       "167             0           0\n",
       "168            11           3\n",
       "169            10           2\n",
       "170             5           1\n",
       "171             1           0\n",
       "172             0           0\n",
       "173             4           1\n",
       "174             2           0\n",
       "\n",
       "[175 rows x 2 columns]"
      ]
     },
     "execution_count": 625,
     "metadata": {},
     "output_type": "execute_result"
    }
   ],
   "source": [
    "bins=[-1,2,6,10,11]\n",
    "group_names=['0','1','2','3']\n",
    "df1['performance']=pd.cut(df['playoff_wins'],bins,labels=group_names)\n",
    "df1[['playoff_wins','performance']]\n",
    "#print(df['playoff_wins','performance'])"
   ]
  },
  {
   "cell_type": "code",
   "execution_count": 617,
   "metadata": {
    "collapsed": false
   },
   "outputs": [
    {
     "data": {
      "text/plain": [
       "Index(['year', 'playoff_wins', 'world_series_ind', 'hit_numBat', 'hit_BatAge',\n",
       "       'hit_RG', 'hit_G', 'hit_PA', 'hit_AB', 'hit_R_scored', 'hit_H',\n",
       "       'hit_2B', 'hit_3B', 'hit_HR', 'hit_RBI', 'hit_SB', 'hit_CS', 'hit_BB',\n",
       "       'hit_SO', 'hit_BA', 'hit_OBP', 'hit_SLG', 'hit_OPS', 'hit_OPS+',\n",
       "       'hit_TB', 'hit_GDP', 'hit_HBP', 'hit_SH', 'hit_SF', 'hit_IBB',\n",
       "       'hit_LOB', 'pitch_numP', 'pitch_PAge', 'pitch_RAG', 'pitch_W',\n",
       "       'pitch_L', 'pitch_WL', 'pitch_ERA', 'pitch_G', 'pitch_GS', 'pitch_GF',\n",
       "       'pitch_CG', 'pitch_tSho', 'pitch_cSho', 'pitch_SV', 'pitch_IP',\n",
       "       'pitch_H', 'pitch_R_allowed', 'pitch_ER', 'pitch_HR', 'pitch_BB',\n",
       "       'pitch_IBB', 'pitch_SO', 'pitch_HBP', 'pitch_BK', 'pitch_WP',\n",
       "       'pitch_BF', 'pitch_ERAplus', 'pitch_FIP', 'pitch_WHIP', 'pitch_H9',\n",
       "       'pitch_HR9', 'pitch_BB9', 'pitch_SO9', 'pitch_SOW', 'pitch_LOB'],\n",
       "      dtype='object')"
      ]
     },
     "execution_count": 617,
     "metadata": {},
     "output_type": "execute_result"
    }
   ],
   "source": [
    "df1.columns"
   ]
  },
  {
   "cell_type": "code",
   "execution_count": 632,
   "metadata": {
    "collapsed": false
   },
   "outputs": [
    {
     "data": {
      "text/plain": [
       "0      3\n",
       "1      0\n",
       "2      1\n",
       "3      2\n",
       "4      0\n",
       "5      0\n",
       "6      0\n",
       "7      1\n",
       "8      2\n",
       "9      1\n",
       "10     0\n",
       "11     0\n",
       "12     3\n",
       "13     0\n",
       "14     1\n",
       "15     0\n",
       "16     1\n",
       "17     1\n",
       "18     2\n",
       "19     0\n",
       "20     0\n",
       "21     0\n",
       "22     0\n",
       "23     1\n",
       "24     0\n",
       "25     0\n",
       "26     1\n",
       "27     0\n",
       "28     3\n",
       "29     2\n",
       "      ..\n",
       "145    0\n",
       "146    2\n",
       "147    3\n",
       "148    1\n",
       "149    0\n",
       "150    0\n",
       "151    1\n",
       "152    0\n",
       "153    2\n",
       "154    0\n",
       "155    0\n",
       "156    3\n",
       "157    1\n",
       "158    0\n",
       "159    1\n",
       "160    0\n",
       "161    3\n",
       "162    0\n",
       "163    2\n",
       "164    0\n",
       "165    0\n",
       "166    1\n",
       "167    0\n",
       "168    3\n",
       "169    2\n",
       "170    1\n",
       "171    0\n",
       "172    0\n",
       "173    1\n",
       "174    0\n",
       "Name: performance, dtype: category\n",
       "Categories (4, object): [0 < 1 < 2 < 3]"
      ]
     },
     "execution_count": 632,
     "metadata": {},
     "output_type": "execute_result"
    }
   ],
   "source": [
    "#df2=df[['playoff_wins','performance']]\n",
    "\n",
    "#df1.drop([\"round\"],axis=1,inplace=True)\n",
    "#df1\n",
    "df2=df1[\"performance\"]\n",
    "df2\n",
    "#df1.columns\n",
    "#df3=df1[\"performance\",{\"excellent\":4,\"good\":3,\"average\":2,\"low\":1}]\n",
    "#df3\n",
    "#df['performance']=df['performance'].convert_objects(convert_numeric=True).df3"
   ]
  },
  {
   "cell_type": "code",
   "execution_count": 636,
   "metadata": {
    "collapsed": false
   },
   "outputs": [
    {
     "data": {
      "text/plain": [
       "array(['3', '0', '1', '2', '0', '0', '0', '1', '2', '1', '0', '0', '3',\n",
       "       '0', '1', '0', '1', '1', '2', '0', '0', '0', '0', '1', '0', '0',\n",
       "       '1', '0', '3', '2', '0', '0', '2', '1', '0', '0', '1', '3', '0',\n",
       "       '0', '0', '2', '3', '0', '1', '0', '1', '3', '1', '0', '0', '2',\n",
       "       '0', '1', '0', '3', '0', '0', '1', '0', '0', '2', '1', '0', '1',\n",
       "       '1', '3', '0', '2', '0', '0', '0', '0', '3', '1', '0', '0', '1',\n",
       "       '2', '0', '0', '3', '2', '1', '0', '0', '1', '2', '0', '0', '1',\n",
       "       '0', '1', '0', '3', '1', '3', '0', '1', '2', '0', '0', '0', '1',\n",
       "       '0', '0', '0', '1', '0', '3', '2', '0', '0', '1', '1', '0', '3',\n",
       "       '2', '0', '0', '0', '0', '1', '1', '3', '0', '2', '0', '1', '1',\n",
       "       '0', '0', '3', '0', '2', '0', '0', '2', '1', '0', '3', '1', '0',\n",
       "       '0', '1', '0', '2', '3', '1', '0', '0', '1', '0', '2', '0', '0',\n",
       "       '3', '1', '0', '1', '0', '3', '0', '2', '0', '0', '1', '0', '3',\n",
       "       '2', '1', '0', '0', '1', '0'], dtype=object)"
      ]
     },
     "execution_count": 636,
     "metadata": {},
     "output_type": "execute_result"
    }
   ],
   "source": [
    "df1.drop([\"performance\"],axis=1,inplace=True)\n",
    "X,y=df1,df2\n",
    "b=np.array(y)\n",
    "c=b.ravel()\n",
    "df3=df1.as_matrix()\n",
    "c\n"
   ]
  },
  {
   "cell_type": "code",
   "execution_count": 562,
   "metadata": {
    "collapsed": false
   },
   "outputs": [],
   "source": [
    "#X_new=SelectKBest(chi2, k=2).fit_transform(X, c)\n"
   ]
  },
  {
   "cell_type": "code",
   "execution_count": 637,
   "metadata": {
    "collapsed": false
   },
   "outputs": [
    {
     "data": {
      "text/plain": [
       "array(['year', 'playoff_wins', 'world_series_ind', 'hit_numBat',\n",
       "       'hit_BatAge', 'hit_RG', 'hit_G', 'hit_PA', 'hit_AB', 'hit_R_scored',\n",
       "       'hit_H', 'hit_2B', 'hit_3B', 'hit_HR', 'hit_RBI', 'hit_SB',\n",
       "       'hit_CS', 'hit_BB', 'hit_SO', 'hit_BA', 'hit_OBP', 'hit_SLG',\n",
       "       'hit_OPS', 'hit_OPS+', 'hit_TB', 'hit_GDP', 'hit_HBP', 'hit_SH',\n",
       "       'hit_SF', 'hit_IBB', 'hit_LOB', 'pitch_numP', 'pitch_PAge',\n",
       "       'pitch_RAG', 'pitch_W', 'pitch_L', 'pitch_WL', 'pitch_ERA',\n",
       "       'pitch_G', 'pitch_GS', 'pitch_GF', 'pitch_CG', 'pitch_tSho',\n",
       "       'pitch_cSho', 'pitch_SV', 'pitch_IP', 'pitch_H', 'pitch_R_allowed',\n",
       "       'pitch_ER', 'pitch_HR', 'pitch_BB', 'pitch_IBB', 'pitch_SO',\n",
       "       'pitch_HBP', 'pitch_BK', 'pitch_WP', 'pitch_BF', 'pitch_ERAplus',\n",
       "       'pitch_FIP', 'pitch_WHIP', 'pitch_H9', 'pitch_HR9', 'pitch_BB9',\n",
       "       'pitch_SO9', 'pitch_SOW', 'pitch_LOB'], dtype=object)"
      ]
     },
     "execution_count": 637,
     "metadata": {},
     "output_type": "execute_result"
    }
   ],
   "source": [
    "from sklearn.feature_selection import RFE\n",
    "from sklearn.linear_model import LinearRegression\n",
    "name=df1.columns.values\n",
    "name"
   ]
  },
  {
   "cell_type": "code",
   "execution_count": 638,
   "metadata": {
    "collapsed": false
   },
   "outputs": [
    {
     "name": "stdout",
     "output_type": "stream",
     "text": [
      "Features sorted by their rank:\n",
      "[(1, 'hit_OBP'), (2, 'hit_OPS'), (3, 'hit_SLG'), (4, 'hit_BA'), (5, 'world_series_ind'), (6, 'playoff_wins'), (7, 'pitch_FIP'), (8, 'pitch_SOW'), (9, 'pitch_HR9'), (10, 'pitch_WHIP'), (11, 'pitch_H9'), (12, 'pitch_SO9'), (13, 'pitch_WL'), (14, 'hit_RG'), (15, 'pitch_RAG'), (16, 'pitch_ERA'), (17, 'pitch_PAge'), (18, 'hit_BatAge'), (19, 'pitch_ER'), (20, 'pitch_H'), (21, 'pitch_G'), (22, 'pitch_BB'), (23, 'pitch_IP'), (24, 'pitch_BB9'), (25, 'pitch_GS'), (26, 'hit_G'), (27, 'pitch_LOB'), (28, 'pitch_BF'), (29, 'year'), (30, 'pitch_numP'), (31, 'pitch_GF'), (32, 'pitch_CG'), (33, 'hit_numBat'), (34, 'pitch_L'), (35, 'pitch_tSho'), (36, 'pitch_HR'), (37, 'hit_HBP'), (38, 'hit_BB'), (39, 'hit_PA'), (40, 'pitch_R_allowed'), (41, 'hit_TB'), (42, 'hit_SH'), (43, 'hit_SF'), (44, 'hit_AB'), (45, 'hit_H'), (46, 'pitch_SO'), (47, 'pitch_W'), (48, 'hit_RBI'), (49, 'pitch_BK'), (50, 'hit_LOB'), (51, 'pitch_SV'), (52, 'hit_OPS+'), (53, 'pitch_ERAplus'), (54, 'hit_CS'), (55, 'hit_GDP'), (56, 'pitch_cSho'), (57, 'hit_R_scored'), (58, 'hit_HR'), (59, 'hit_3B'), (60, 'hit_2B'), (61, 'hit_SB'), (62, 'hit_IBB'), (63, 'pitch_HBP'), (64, 'pitch_WP'), (65, 'hit_SO'), (66, 'pitch_IBB')]\n"
     ]
    }
   ],
   "source": [
    "#use linear regression as the model\n",
    "\n",
    "\n",
    "lr = LinearRegression()\n",
    "#rank all features, i.e continue the elimination until the last one\n",
    "rfe = RFE(lr, n_features_to_select=1)\n",
    "rfe.fit(df3,c)\n",
    "print (\"Features sorted by their rank:\")\n",
    "print (sorted(zip(map(lambda x: round(x, 4), rfe.ranking_),name)))\n"
   ]
  },
  {
   "cell_type": "code",
   "execution_count": 639,
   "metadata": {
    "collapsed": false
   },
   "outputs": [
    {
     "name": "stdout",
     "output_type": "stream",
     "text": [
      "[ 0.00830333  0.28476736  0.1354516   0.01006598  0.01151785  0.0039856\n",
      "  0.00483051  0.00366162  0.00922481  0.00692265  0.00834146  0.02250743\n",
      "  0.01485775  0.00589344  0.00787477  0.00733514  0.02047187  0.00817553\n",
      "  0.01196105  0.00954665  0.00824483  0.00583554  0.00540726  0.0085098\n",
      "  0.01126013  0.00472917  0.01031738  0.00834839  0.00467415  0.00576614\n",
      "  0.00703255  0.00666417  0.00576326  0.00591682  0.00308025  0.01205196\n",
      "  0.01188289  0.00714943  0.00688586  0.00668889  0.00804351  0.01564928\n",
      "  0.0107667   0.00628691  0.01753076  0.01024362  0.00856528  0.00789836\n",
      "  0.00726436  0.00814317  0.01178528  0.00713921  0.00532829  0.02031203\n",
      "  0.00321993  0.01083857  0.00623048  0.00712657  0.01294107  0.00929224\n",
      "  0.01104811  0.01096378  0.01314904  0.01002786  0.01169153  0.0066088 ]\n"
     ]
    }
   ],
   "source": [
    "# Feature Importance\n",
    "from sklearn import datasets\n",
    "from sklearn import metrics\n",
    "from sklearn.ensemble import ExtraTreesClassifier\n",
    "# load the iris datasets\n",
    "\n",
    "# fit an Extra Trees model to the data\n",
    "model = ExtraTreesClassifier()\n",
    "model.fit(df3,c)\n",
    "# display the relative importance of each attribute\n",
    "print(model.feature_importances_)"
   ]
  },
  {
   "cell_type": "code",
   "execution_count": 640,
   "metadata": {
    "collapsed": true
   },
   "outputs": [],
   "source": [
    "#Applying K- Nearest Neighbour Algorithm on our top 10 features\n",
    "from sklearn.neighbors import KNeighborsClassifier\n"
   ]
  },
  {
   "cell_type": "code",
   "execution_count": 641,
   "metadata": {
    "collapsed": true
   },
   "outputs": [],
   "source": [
    "knn=KNeighborsClassifier(n_neighbors=1)"
   ]
  },
  {
   "cell_type": "code",
   "execution_count": 642,
   "metadata": {
    "collapsed": false
   },
   "outputs": [
    {
     "name": "stdout",
     "output_type": "stream",
     "text": [
      "KNeighborsClassifier(algorithm='auto', leaf_size=30, metric='minkowski',\n",
      "           metric_params=None, n_jobs=1, n_neighbors=1, p=2,\n",
      "           weights='uniform')\n"
     ]
    }
   ],
   "source": [
    "print(knn)"
   ]
  },
  {
   "cell_type": "code",
   "execution_count": 643,
   "metadata": {
    "collapsed": false
   },
   "outputs": [],
   "source": [
    "from sklearn.cross_validation import train_test_split\n",
    "x_train,x_test,y_train,y_test=train_test_split(df3,c,test_size=0.4)"
   ]
  },
  {
   "cell_type": "code",
   "execution_count": 675,
   "metadata": {
    "collapsed": false
   },
   "outputs": [
    {
     "name": "stdout",
     "output_type": "stream",
     "text": [
      "0.514285714286\n"
     ]
    }
   ],
   "source": [
    "from sklearn import metrics\n",
    "knn=KNeighborsClassifier(n_neighbors=23)\n",
    "knn.fit(x_train,y_train)\n",
    "y_pred=knn.predict(x_test)\n",
    "print(metrics.accuracy_score(y_test,y_pred))"
   ]
  },
  {
   "cell_type": "code",
   "execution_count": 757,
   "metadata": {
    "collapsed": false
   },
   "outputs": [
    {
     "name": "stdout",
     "output_type": "stream",
     "text": [
      "0.542857142857\n"
     ]
    }
   ],
   "source": [
    "from sklearn.linear_model import LogisticRegression\n",
    "logreg=LogisticRegression()\n",
    "logreg=LogisticRegression()\n",
    "logreg.fit(x_train,y_train)\n",
    "y_pred=logreg.predict(x_test)\n",
    "print(metrics.accuracy_score(y_test,y_pred))"
   ]
  },
  {
   "cell_type": "code",
   "execution_count": 671,
   "metadata": {
    "collapsed": false
   },
   "outputs": [
    {
     "data": {
      "text/plain": [
       "<matplotlib.text.Text at 0x7f933fb03160>"
      ]
     },
     "execution_count": 671,
     "metadata": {},
     "output_type": "execute_result"
    },
    {
     "data": {
      "image/png": "[encoded data removed]",
      "text/plain": [
       "<matplotlib.figure.Figure at 0x7f93a8ed1f60>"
      ]
     },
     "metadata": {},
     "output_type": "display_data"
    }
   ],
   "source": [
    "k_range=range(1,100)\n",
    "scores=[]\n",
    "for k in k_range:\n",
    "    knn=KNeighborsClassifier(n_neighbors=k)\n",
    "    knn.fit(x_train,y_train)\n",
    "    y_pred=knn.predict(x_test)\n",
    "    scores.append(metrics.accuracy_score(y_test,y_pred))\n",
    "    \n",
    "import matplotlib.pyplot as plt\n",
    "%matplotlib inline\n",
    "plt.plot(k_range,scores)\n",
    "plt.xlabel('value of k for knn')\n",
    "plt.ylabel('Testing accuracy')"
   ]
  },
  {
   "cell_type": "code",
   "execution_count": 743,
   "metadata": {
    "collapsed": false
   },
   "outputs": [
    {
     "name": "stdout",
     "output_type": "stream",
     "text": [
      "0.614285714286\n"
     ]
    }
   ],
   "source": [
    "#Applying knn on few features\n",
    "columns=['hit_BA','hit_OPS','hit_SLG','pitch_WHIP','pitch_BB9']\n",
    "features=df1[list(columns)].values\n",
    "from sklearn.cross_validation import train_test_split\n",
    "x_train,x_test,y_train,y_test=train_test_split(features,c,test_size=0.4)\n",
    "from sklearn import metrics\n",
    "knn=KNeighborsClassifier(n_neighbors=13)\n",
    "knn.fit(features,c)\n",
    "y_pred=knn.predict(x_test)\n",
    "print(metrics.accuracy_score(y_test,y_pred))"
   ]
  },
  {
   "cell_type": "code",
   "execution_count": 844,
   "metadata": {
    "collapsed": false
   },
   "outputs": [
    {
     "name": "stdout",
     "output_type": "stream",
     "text": [
      "0.465855263158\n"
     ]
    }
   ],
   "source": [
    "## from sklearn import metrics\n",
    "from sklearn.cross_validation import cross_val_score\n",
    "knn=KNeighborsClassifier(n_neighbors=13)\n",
    "columns=['hit_BA','hit_OPS','hit_SLG','pitch_WHIP','pitch_BB9','pitch_H9','pitch_WL','pitch_HR9','pitch_FIP']\n",
    "features=df1[list(columns)].values\n",
    "from sklearn.cross_validation import train_test_split\n",
    "x_train,x_test,y_train,y_test=train_test_split(features,c,test_size=0.4)\n",
    "from sklearn import metrics\n",
    "knn=KNeighborsClassifier(n_neighbors=13)\n",
    "knn.fit(features,c)\n",
    "print (cross_val_score(knn,features,c,cv=10,scoring=\"accuracy\").mean())"
   ]
  },
  {
   "cell_type": "code",
   "execution_count": 887,
   "metadata": {
    "collapsed": false
   },
   "outputs": [
    {
     "name": "stdout",
     "output_type": "stream",
     "text": [
      "0.504133126935\n"
     ]
    }
   ],
   "source": [
    "from sklearn.linear_model import LogisticRegression\n",
    "columns=['hit_BA','hit_OPS','hit_SLG']\n",
    "features=df1[list(columns)].values\n",
    "from sklearn.cross_validation import train_test_split\n",
    "x_train,x_test,y_train,y_test=train_test_split(features,c)\n",
    "logreg=LogisticRegression()\n",
    "logreg.fit(features,c)\n",
    "y_pred=logreg.predict(x_test)\n",
    "print (cross_val_score(logreg,features,c,cv=10,scoring=\"accuracy\").mean())\n"
   ]
  },
  {
   "cell_type": "code",
   "execution_count": 869,
   "metadata": {
    "collapsed": false
   },
   "outputs": [
    {
     "data": {
      "text/plain": [
       "array(['3', '0', '1', '2', '0', '0', '0', '1', '2', '1', '0', '0', '3',\n",
       "       '0', '1', '0', '1', '1', '2', '0', '0', '0', '0', '1', '0', '0',\n",
       "       '1', '0', '3', '2', '0', '0', '2', '1', '0', '0', '1', '3', '0',\n",
       "       '0', '0', '2', '3', '0', '1', '0', '1', '3', '1', '0', '0', '2',\n",
       "       '0', '1', '0', '3', '0', '0', '1', '0', '0', '2', '1', '0', '1',\n",
       "       '1', '3', '0', '2', '0', '0', '0', '0', '3', '1', '0', '0', '1',\n",
       "       '2', '0', '0', '3', '2', '1', '0', '0', '1', '2', '0', '0', '1',\n",
       "       '0', '1', '0', '3', '1', '3', '0', '1', '2', '0', '0', '0', '1',\n",
       "       '0', '0', '0', '1', '0', '3', '2', '0', '0', '1', '1', '0', '3',\n",
       "       '2', '0', '0', '0', '0', '1', '1', '3', '0', '2', '0', '1', '1',\n",
       "       '0', '0', '3', '0', '2', '0', '0', '2', '1', '0', '3', '1', '0',\n",
       "       '0', '1', '0', '2', '3', '1', '0', '0', '1', '0', '2', '0', '0',\n",
       "       '3', '1', '0', '1', '0', '3', '0', '2', '0', '0', '1', '0', '3',\n",
       "       '2', '1', '0', '0', '1', '0'], dtype=object)"
      ]
     },
     "execution_count": 869,
     "metadata": {},
     "output_type": "execute_result"
    }
   ],
   "source": [
    "c"
   ]
  },
  {
   "cell_type": "code",
   "execution_count": 697,
   "metadata": {
    "collapsed": false
   },
   "outputs": [
    {
     "data": {
      "text/plain": [
       "<matplotlib.text.Text at 0x7f93a8ed47f0>"
      ]
     },
     "execution_count": 697,
     "metadata": {},
     "output_type": "execute_result"
    },
    {
     "data": {
      "image/png": "[encoded data removed]",
      "text/plain": [
       "<matplotlib.figure.Figure at 0x7f933f9b7b70>"
      ]
     },
     "metadata": {},
     "output_type": "display_data"
    }
   ],
   "source": [
    "k_range=range(1,120)\n",
    "k_scores=[]\n",
    "for k in k_range:\n",
    "    knn=KNeighborsClassifier(n_neighbors=k)\n",
    "    scores=cross_val_score(knn,df3,c,cv=10,scoring=\"accuracy\")   \n",
    "    k_scores.append(scores.mean())\n",
    "    \n",
    "import matplotlib.pyplot as plt\n",
    "%matplotlib inline\n",
    "plt.plot(k_range,k_scores)\n",
    "plt.xlabel('value of k for knn')\n",
    "plt.ylabel('Testing accuracy')"
   ]
  },
  {
   "cell_type": "code",
   "execution_count": 374,
   "metadata": {
    "collapsed": false
   },
   "outputs": [
    {
     "data": {
      "text/html": [
       "<div>\n",
       "<table border=\"1\" class=\"dataframe\">\n",
       "  <thead>\n",
       "    <tr style=\"text-align: right;\">\n",
       "      <th></th>\n",
       "      <th>performance</th>\n",
       "    </tr>\n",
       "  </thead>\n",
       "  <tbody>\n",
       "    <tr>\n",
       "      <th>0</th>\n",
       "      <td>3</td>\n",
       "    </tr>\n",
       "    <tr>\n",
       "      <th>1</th>\n",
       "      <td>0</td>\n",
       "    </tr>\n",
       "    <tr>\n",
       "      <th>2</th>\n",
       "      <td>0</td>\n",
       "    </tr>\n",
       "    <tr>\n",
       "      <th>3</th>\n",
       "      <td>2</td>\n",
       "    </tr>\n",
       "    <tr>\n",
       "      <th>4</th>\n",
       "      <td>0</td>\n",
       "    </tr>\n",
       "    <tr>\n",
       "      <th>5</th>\n",
       "      <td>0</td>\n",
       "    </tr>\n",
       "    <tr>\n",
       "      <th>6</th>\n",
       "      <td>0</td>\n",
       "    </tr>\n",
       "    <tr>\n",
       "      <th>7</th>\n",
       "      <td>1</td>\n",
       "    </tr>\n",
       "    <tr>\n",
       "      <th>8</th>\n",
       "      <td>2</td>\n",
       "    </tr>\n",
       "    <tr>\n",
       "      <th>9</th>\n",
       "      <td>1</td>\n",
       "    </tr>\n",
       "    <tr>\n",
       "      <th>10</th>\n",
       "      <td>0</td>\n",
       "    </tr>\n",
       "    <tr>\n",
       "      <th>11</th>\n",
       "      <td>0</td>\n",
       "    </tr>\n",
       "    <tr>\n",
       "      <th>12</th>\n",
       "      <td>3</td>\n",
       "    </tr>\n",
       "    <tr>\n",
       "      <th>13</th>\n",
       "      <td>0</td>\n",
       "    </tr>\n",
       "    <tr>\n",
       "      <th>14</th>\n",
       "      <td>1</td>\n",
       "    </tr>\n",
       "    <tr>\n",
       "      <th>15</th>\n",
       "      <td>0</td>\n",
       "    </tr>\n",
       "    <tr>\n",
       "      <th>16</th>\n",
       "      <td>1</td>\n",
       "    </tr>\n",
       "    <tr>\n",
       "      <th>17</th>\n",
       "      <td>1</td>\n",
       "    </tr>\n",
       "    <tr>\n",
       "      <th>18</th>\n",
       "      <td>3</td>\n",
       "    </tr>\n",
       "    <tr>\n",
       "      <th>19</th>\n",
       "      <td>0</td>\n",
       "    </tr>\n",
       "    <tr>\n",
       "      <th>20</th>\n",
       "      <td>0</td>\n",
       "    </tr>\n",
       "    <tr>\n",
       "      <th>21</th>\n",
       "      <td>0</td>\n",
       "    </tr>\n",
       "    <tr>\n",
       "      <th>22</th>\n",
       "      <td>0</td>\n",
       "    </tr>\n",
       "    <tr>\n",
       "      <th>23</th>\n",
       "      <td>1</td>\n",
       "    </tr>\n",
       "    <tr>\n",
       "      <th>24</th>\n",
       "      <td>0</td>\n",
       "    </tr>\n",
       "    <tr>\n",
       "      <th>25</th>\n",
       "      <td>0</td>\n",
       "    </tr>\n",
       "    <tr>\n",
       "      <th>26</th>\n",
       "      <td>1</td>\n",
       "    </tr>\n",
       "    <tr>\n",
       "      <th>27</th>\n",
       "      <td>0</td>\n",
       "    </tr>\n",
       "    <tr>\n",
       "      <th>28</th>\n",
       "      <td>3</td>\n",
       "    </tr>\n",
       "    <tr>\n",
       "      <th>29</th>\n",
       "      <td>2</td>\n",
       "    </tr>\n",
       "    <tr>\n",
       "      <th>...</th>\n",
       "      <td>...</td>\n",
       "    </tr>\n",
       "    <tr>\n",
       "      <th>145</th>\n",
       "      <td>0</td>\n",
       "    </tr>\n",
       "    <tr>\n",
       "      <th>146</th>\n",
       "      <td>2</td>\n",
       "    </tr>\n",
       "    <tr>\n",
       "      <th>147</th>\n",
       "      <td>3</td>\n",
       "    </tr>\n",
       "    <tr>\n",
       "      <th>148</th>\n",
       "      <td>1</td>\n",
       "    </tr>\n",
       "    <tr>\n",
       "      <th>149</th>\n",
       "      <td>0</td>\n",
       "    </tr>\n",
       "    <tr>\n",
       "      <th>150</th>\n",
       "      <td>0</td>\n",
       "    </tr>\n",
       "    <tr>\n",
       "      <th>151</th>\n",
       "      <td>0</td>\n",
       "    </tr>\n",
       "    <tr>\n",
       "      <th>152</th>\n",
       "      <td>0</td>\n",
       "    </tr>\n",
       "    <tr>\n",
       "      <th>153</th>\n",
       "      <td>3</td>\n",
       "    </tr>\n",
       "    <tr>\n",
       "      <th>154</th>\n",
       "      <td>0</td>\n",
       "    </tr>\n",
       "    <tr>\n",
       "      <th>155</th>\n",
       "      <td>0</td>\n",
       "    </tr>\n",
       "    <tr>\n",
       "      <th>156</th>\n",
       "      <td>3</td>\n",
       "    </tr>\n",
       "    <tr>\n",
       "      <th>157</th>\n",
       "      <td>1</td>\n",
       "    </tr>\n",
       "    <tr>\n",
       "      <th>158</th>\n",
       "      <td>0</td>\n",
       "    </tr>\n",
       "    <tr>\n",
       "      <th>159</th>\n",
       "      <td>0</td>\n",
       "    </tr>\n",
       "    <tr>\n",
       "      <th>160</th>\n",
       "      <td>0</td>\n",
       "    </tr>\n",
       "    <tr>\n",
       "      <th>161</th>\n",
       "      <td>3</td>\n",
       "    </tr>\n",
       "    <tr>\n",
       "      <th>162</th>\n",
       "      <td>0</td>\n",
       "    </tr>\n",
       "    <tr>\n",
       "      <th>163</th>\n",
       "      <td>2</td>\n",
       "    </tr>\n",
       "    <tr>\n",
       "      <th>164</th>\n",
       "      <td>0</td>\n",
       "    </tr>\n",
       "    <tr>\n",
       "      <th>165</th>\n",
       "      <td>0</td>\n",
       "    </tr>\n",
       "    <tr>\n",
       "      <th>166</th>\n",
       "      <td>1</td>\n",
       "    </tr>\n",
       "    <tr>\n",
       "      <th>167</th>\n",
       "      <td>0</td>\n",
       "    </tr>\n",
       "    <tr>\n",
       "      <th>168</th>\n",
       "      <td>3</td>\n",
       "    </tr>\n",
       "    <tr>\n",
       "      <th>169</th>\n",
       "      <td>3</td>\n",
       "    </tr>\n",
       "    <tr>\n",
       "      <th>170</th>\n",
       "      <td>1</td>\n",
       "    </tr>\n",
       "    <tr>\n",
       "      <th>171</th>\n",
       "      <td>0</td>\n",
       "    </tr>\n",
       "    <tr>\n",
       "      <th>172</th>\n",
       "      <td>0</td>\n",
       "    </tr>\n",
       "    <tr>\n",
       "      <th>173</th>\n",
       "      <td>1</td>\n",
       "    </tr>\n",
       "    <tr>\n",
       "      <th>174</th>\n",
       "      <td>0</td>\n",
       "    </tr>\n",
       "  </tbody>\n",
       "</table>\n",
       "<p>175 rows × 1 columns</p>\n",
       "</div>"
      ],
      "text/plain": [
       "    performance\n",
       "0             3\n",
       "1             0\n",
       "2             0\n",
       "3             2\n",
       "4             0\n",
       "5             0\n",
       "6             0\n",
       "7             1\n",
       "8             2\n",
       "9             1\n",
       "10            0\n",
       "11            0\n",
       "12            3\n",
       "13            0\n",
       "14            1\n",
       "15            0\n",
       "16            1\n",
       "17            1\n",
       "18            3\n",
       "19            0\n",
       "20            0\n",
       "21            0\n",
       "22            0\n",
       "23            1\n",
       "24            0\n",
       "25            0\n",
       "26            1\n",
       "27            0\n",
       "28            3\n",
       "29            2\n",
       "..          ...\n",
       "145           0\n",
       "146           2\n",
       "147           3\n",
       "148           1\n",
       "149           0\n",
       "150           0\n",
       "151           0\n",
       "152           0\n",
       "153           3\n",
       "154           0\n",
       "155           0\n",
       "156           3\n",
       "157           1\n",
       "158           0\n",
       "159           0\n",
       "160           0\n",
       "161           3\n",
       "162           0\n",
       "163           2\n",
       "164           0\n",
       "165           0\n",
       "166           1\n",
       "167           0\n",
       "168           3\n",
       "169           3\n",
       "170           1\n",
       "171           0\n",
       "172           0\n",
       "173           1\n",
       "174           0\n",
       "\n",
       "[175 rows x 1 columns]"
      ]
     },
     "execution_count": 374,
     "metadata": {},
     "output_type": "execute_result"
    }
   ],
   "source": [
    "Correlation=df1.corr()\n",
    "Correlation.to_csv('CorrelationMatrix.csv')\n",
    "df2"
   ]
  },
  {
   "cell_type": "code",
   "execution_count": 762,
   "metadata": {
    "collapsed": false
   },
   "outputs": [
    {
     "data": {
      "text/plain": [
       "array([[  0.25 ,   0.735,   0.409, ...,   0.7  ,   3.58 ,  90.   ],\n",
       "       [  0.28 ,   0.812,   0.455, ...,   0.9  ,   4.22 ,  86.   ],\n",
       "       [  0.27 ,   0.782,   0.44 , ...,   0.9  ,   4.08 ,  85.   ],\n",
       "       ..., \n",
       "       [  0.262,   0.755,   0.433, ...,   1.3  ,   4.58 ,  95.   ],\n",
       "       [  0.248,   0.755,   0.426, ...,   1.1  ,   4.04 ,  89.   ],\n",
       "       [  0.256,   0.751,   0.426, ...,   1.   ,   3.58 ,  95.   ]])"
      ]
     },
     "execution_count": 762,
     "metadata": {},
     "output_type": "execute_result"
    }
   ],
   "source": []
  }
 ],
 "metadata": {
  "kernelspec": {
   "display_name": "Python 3",
   "language": "python",
   "name": "python3"
  },
  "language_info": {
   "codemirror_mode": {
    "name": "ipython",
    "version": 3
   },
   "file_extension": ".py",
   "mimetype": "text/x-python",
   "name": "python",
   "nbconvert_exporter": "python",
   "pygments_lexer": "ipython3",
   "version": "3.4.3"
  }
 },
 "nbformat": 4,
 "nbformat_minor": 0
}
