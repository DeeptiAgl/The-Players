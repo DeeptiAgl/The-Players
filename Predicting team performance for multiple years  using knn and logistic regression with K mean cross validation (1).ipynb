{
 "cells": [
  {
   "cell_type": "code",
   "execution_count": 2,
   "metadata": {
    "collapsed": true
   },
   "outputs": [],
   "source": [
    "import pandas as pd\n",
    "import numpy as np"
   ]
  },
  {
   "cell_type": "code",
   "execution_count": 3,
   "metadata": {
    "collapsed": true
   },
   "outputs": [],
   "source": [
    "df1=pd.read_csv(\"/home/rsingla1/project_data_latest.csv\")"
   ]
  },
  {
   "cell_type": "code",
   "execution_count": 4,
   "metadata": {
    "collapsed": false
   },
   "outputs": [],
   "source": [
    "bins=[-1,2,6,10,11]\n",
    "group_names=['0','1','2','3']\n",
    "df1['performance']=pd.cut(df1['playoff_wins'],bins,labels=group_names)\n",
    "df2=df1[[\"performance\"]]\n"
   ]
  },
  {
   "cell_type": "code",
   "execution_count": 5,
   "metadata": {
    "collapsed": false
   },
   "outputs": [
    {
     "data": {
      "text/plain": [
       "Index(['year', 'Tm', 'playoff_wins', 'world_series_ind', 'round', 'hit_numBat',\n",
       "       'hit_BatAge', 'hit_RG', 'hit_G', 'hit_PA', 'hit_AB', 'hit_R_scored',\n",
       "       'hit_H', 'hit_2B', 'hit_3B', 'hit_HR', 'hit_RBI', 'hit_SB', 'hit_CS',\n",
       "       'hit_BB', 'hit_SO', 'hit_BA', 'hit_OBP', 'hit_SLG', 'hit_OPS',\n",
       "       'hit_OPS+', 'hit_TB', 'hit_GDP', 'hit_HBP', 'hit_SH', 'hit_SF',\n",
       "       'hit_IBB', 'hit_LOB', 'pitch_numP', 'pitch_PAge', 'pitch_RAG',\n",
       "       'pitch_W', 'pitch_L', 'pitch_WL', 'pitch_ERA', 'pitch_G', 'pitch_GS',\n",
       "       'pitch_GF', 'pitch_CG', 'pitch_tSho', 'pitch_cSho', 'pitch_SV',\n",
       "       'pitch_IP', 'pitch_H', 'pitch_R_allowed', 'pitch_ER', 'pitch_HR',\n",
       "       'pitch_BB', 'pitch_IBB', 'pitch_SO', 'pitch_HBP', 'pitch_BK',\n",
       "       'pitch_WP', 'pitch_BF', 'pitch_ERAplus', 'pitch_FIP', 'pitch_WHIP',\n",
       "       'pitch_H9', 'pitch_HR9', 'pitch_BB9', 'pitch_SO9', 'pitch_SOW',\n",
       "       'pitch_LOB', 'performance'],\n",
       "      dtype='object')"
      ]
     },
     "execution_count": 5,
     "metadata": {},
     "output_type": "execute_result"
    }
   ],
   "source": [
    "df1.columns"
   ]
  },
  {
   "cell_type": "code",
   "execution_count": 6,
   "metadata": {
    "collapsed": true
   },
   "outputs": [],
   "source": [
    "df1.drop([\"round\",\"playoff_wins\",\"performance\",\"Tm\",\"world_series_ind\"],axis=1,inplace=True)"
   ]
  },
  {
   "cell_type": "code",
   "execution_count": 7,
   "metadata": {
    "collapsed": false
   },
   "outputs": [
    {
     "name": "stdout",
     "output_type": "stream",
     "text": [
      "Features sorted by their rank:\n",
      "[(1, 'hit_OBP'), (2, 'hit_OPS'), (3, 'hit_SLG'), (4, 'hit_BA'), (5, 'pitch_WHIP'), (6, 'pitch_BB9'), (7, 'pitch_H9'), (8, 'pitch_HR9'), (9, 'pitch_FIP'), (10, 'pitch_WL'), (11, 'hit_RG'), (12, 'pitch_ERA'), (13, 'pitch_SOW'), (14, 'pitch_SO9'), (15, 'pitch_W'), (16, 'pitch_GS'), (17, 'pitch_G'), (18, 'hit_G'), (19, 'pitch_RAG'), (20, 'pitch_PAge'), (21, 'pitch_CG'), (22, 'pitch_GF'), (23, 'hit_BatAge'), (24, 'pitch_ER'), (25, 'pitch_H'), (26, 'pitch_BB'), (27, 'pitch_IP'), (28, 'pitch_cSho'), (29, 'pitch_BK'), (30, 'hit_H'), (31, 'hit_AB'), (32, 'hit_SF'), (33, 'hit_SH'), (34, 'hit_PA'), (35, 'pitch_L'), (36, 'pitch_SO'), (37, 'hit_LOB'), (38, 'pitch_LOB'), (39, 'pitch_BF'), (40, 'pitch_R_allowed'), (41, 'hit_TB'), (42, 'hit_RBI'), (43, 'pitch_tSho'), (44, 'hit_HR'), (45, 'pitch_numP'), (46, 'hit_BB'), (47, 'hit_HBP'), (48, 'hit_GDP'), (49, 'year'), (50, 'hit_CS'), (51, 'pitch_WP'), (52, 'pitch_HBP'), (53, 'hit_R_scored'), (54, 'hit_2B'), (55, 'pitch_HR'), (56, 'pitch_ERAplus'), (57, 'pitch_IBB'), (58, 'hit_3B'), (59, 'hit_OPS+'), (60, 'hit_SB'), (61, 'hit_SO'), (62, 'pitch_SV'), (63, 'hit_numBat'), (64, 'hit_IBB')]\n"
     ]
    },
    {
     "name": "stderr",
     "output_type": "stream",
     "text": [
      "/usr/lib64/python3.4/site-packages/sklearn/utils/validation.py:526: DataConversionWarning: A column-vector y was passed when a 1d array was expected. Please change the shape of y to (n_samples, ), for example using ravel().\n",
      "  y = column_or_1d(y, warn=True)\n"
     ]
    }
   ],
   "source": [
    "#use linear regression as the model for feature selection\n",
    "from sklearn.feature_selection import RFE\n",
    "from sklearn.linear_model import LinearRegression\n",
    "name=df1.columns.values\n",
    "name\n",
    "lr = LinearRegression()\n",
    "#rank all features, i.e continue the elimination until the last one\n",
    "rfe = RFE(lr, n_features_to_select=1)\n",
    "rfe.fit(df1,df2)\n",
    "print (\"Features sorted by their rank:\")\n",
    "print (sorted(zip(map(lambda x: round(x, 4), rfe.ranking_),name)))"
   ]
  },
  {
   "cell_type": "code",
   "execution_count": 8,
   "metadata": {
    "collapsed": false
   },
   "outputs": [
    {
     "name": "stdout",
     "output_type": "stream",
     "text": [
      "[(0.027300000000000001, 'pitch_BB'), (0.025600000000000001, 'hit_BA'), (0.024, 'pitch_ER'), (0.023800000000000002, 'hit_CS'), (0.023699999999999999, 'hit_numBat'), (0.023099999999999999, 'hit_OPS+'), (0.022499999999999999, 'pitch_H'), (0.021999999999999999, 'pitch_numP'), (0.021899999999999999, 'pitch_IBB'), (0.021399999999999999, 'hit_AB'), (0.021100000000000001, 'pitch_WHIP'), (0.0201, 'hit_2B'), (0.02, 'pitch_tSho'), (0.019900000000000001, 'hit_TB'), (0.019900000000000001, 'hit_SO'), (0.0195, 'pitch_WP'), (0.018800000000000001, 'pitch_SV'), (0.018499999999999999, 'hit_H'), (0.0184, 'pitch_SO9'), (0.0183, 'pitch_FIP'), (0.018200000000000001, 'hit_3B'), (0.017899999999999999, 'hit_OPS'), (0.0178, 'pitch_HBP'), (0.0177, 'pitch_R_allowed'), (0.017000000000000001, 'pitch_BB9'), (0.0167, 'hit_RG'), (0.016500000000000001, 'hit_SF'), (0.016299999999999999, 'pitch_WL'), (0.016299999999999999, 'hit_OBP'), (0.015800000000000002, 'pitch_PAge'), (0.015599999999999999, 'pitch_IP'), (0.0154, 'pitch_W'), (0.0154, 'hit_IBB'), (0.0154, 'hit_BatAge'), (0.014999999999999999, 'pitch_SO'), (0.014800000000000001, 'pitch_L'), (0.0141, 'hit_HR'), (0.014, 'pitch_HR9'), (0.013899999999999999, 'pitch_BF'), (0.0137, 'pitch_LOB'), (0.013299999999999999, 'pitch_ERAplus'), (0.0132, 'hit_GDP'), (0.012999999999999999, 'hit_RBI'), (0.0123, 'hit_SB'), (0.012, 'hit_LOB'), (0.011900000000000001, 'hit_HBP'), (0.011900000000000001, 'hit_BB'), (0.0117, 'pitch_GF'), (0.0117, 'hit_R_scored'), (0.011299999999999999, 'pitch_cSho'), (0.011299999999999999, 'hit_PA'), (0.0112, 'year'), (0.0112, 'pitch_RAG'), (0.0112, 'pitch_BK'), (0.0111, 'hit_SH'), (0.010699999999999999, 'pitch_HR'), (0.0097000000000000003, 'pitch_SOW'), (0.0097000000000000003, 'pitch_H9'), (0.0091000000000000004, 'pitch_ERA'), (0.0080000000000000002, 'pitch_CG'), (0.0077999999999999996, 'hit_SLG'), (0.0070000000000000001, 'hit_G'), (0.0066, 'pitch_G'), (0.0055999999999999999, 'pitch_GS')]\n"
     ]
    },
    {
     "name": "stderr",
     "output_type": "stream",
     "text": [
      "/usr/lib/python3.4/site-packages/ipykernel/__main__.py:6: DataConversionWarning: A column-vector y was passed when a 1d array was expected. Please change the shape of y to (n_samples,), for example using ravel().\n"
     ]
    }
   ],
   "source": [
    "# Feature Selection using Extra Tree Classifier\n",
    "from sklearn import metrics\n",
    "from sklearn.ensemble import ExtraTreesClassifier\n",
    "# fit an Extra Trees model to the data\n",
    "model = ExtraTreesClassifier()\n",
    "model.fit(df1,df2)\n",
    "#y=k_scores.append(x.mean())\n",
    "# display the relative importance of each attribute\n",
    "print (sorted(zip(map(lambda x: round(x, 4), model.feature_importances_),name), \n",
    "             reverse=True))"
   ]
  },
  {
   "cell_type": "code",
   "execution_count": 9,
   "metadata": {
    "collapsed": false
   },
   "outputs": [
    {
     "name": "stdout",
     "output_type": "stream",
     "text": [
      "Features sorted by their score:\n",
      "[(0.108, 'hit_2B'), (0.057599999999999998, 'pitch_H'), (0.051999999999999998, 'hit_SO'), (0.0395, 'hit_GDP'), (0.038199999999999998, 'pitch_SV'), (0.037699999999999997, 'pitch_WP'), (0.036900000000000002, 'pitch_WL'), (0.036299999999999999, 'pitch_HBP'), (0.035700000000000003, 'hit_IBB'), (0.031099999999999999, 'pitch_IBB'), (0.030099999999999998, 'hit_BB'), (0.026499999999999999, 'pitch_ERAplus'), (0.0258, 'hit_3B'), (0.024299999999999999, 'pitch_PAge'), (0.021600000000000001, 'pitch_FIP'), (0.019400000000000001, 'pitch_BB'), (0.018700000000000001, 'pitch_SOW'), (0.0178, 'hit_AB'), (0.0177, 'pitch_SO'), (0.017500000000000002, 'hit_HBP'), (0.016500000000000001, 'hit_OBP'), (0.015599999999999999, 'pitch_IP'), (0.014500000000000001, 'pitch_L'), (0.0144, 'pitch_HR'), (0.0137, 'pitch_GF'), (0.012699999999999999, 'pitch_numP'), (0.0121, 'hit_SH'), (0.0115, 'hit_BatAge'), (0.0112, 'hit_LOB'), (0.010999999999999999, 'pitch_R_allowed'), (0.0103, 'hit_numBat'), (0.010200000000000001, 'hit_SF'), (0.010200000000000001, 'hit_PA'), (0.0099000000000000008, 'pitch_BK'), (0.0097000000000000003, 'pitch_cSho'), (0.0088999999999999999, 'hit_CS'), (0.0080000000000000002, 'hit_HR'), (0.0079000000000000008, 'hit_SB'), (0.0077000000000000002, 'pitch_tSho'), (0.0071999999999999998, 'hit_TB'), (0.0071999999999999998, 'hit_BA'), (0.0067000000000000002, 'pitch_CG'), (0.0067000000000000002, 'hit_SLG'), (0.0066, 'year'), (0.0066, 'pitch_BB9'), (0.0064000000000000003, 'pitch_W'), (0.0061999999999999998, 'pitch_LOB'), (0.0053, 'pitch_ERA'), (0.0048999999999999998, 'pitch_SO9'), (0.0041999999999999997, 'pitch_WHIP'), (0.0041000000000000003, 'pitch_BF'), (0.0033, 'hit_OPS'), (0.0032000000000000002, 'hit_RBI'), (0.0025999999999999999, 'hit_H'), (0.0023999999999999998, 'hit_R_scored'), (0.0022000000000000001, 'hit_RG'), (0.002, 'pitch_H9'), (0.0018, 'hit_OPS+'), (0.00069999999999999999, 'pitch_RAG'), (0.00050000000000000001, 'pitch_ER'), (0.00029999999999999997, 'pitch_HR9'), (0.00029999999999999997, 'pitch_GS'), (0.0, 'pitch_G'), (0.0, 'hit_G')]\n"
     ]
    },
    {
     "name": "stderr",
     "output_type": "stream",
     "text": [
      "/usr/lib/python3.4/site-packages/ipykernel/__main__.py:4: DataConversionWarning: A column-vector y was passed when a 1d array was expected. Please change the shape of y to (n_samples,), for example using ravel().\n"
     ]
    }
   ],
   "source": [
    "from sklearn.ensemble import RandomForestRegressor\n",
    "import numpy as np\n",
    "rf = RandomForestRegressor()\n",
    "rf.fit(df1, df2)\n",
    "print (\"Features sorted by their score:\")\n",
    "print (sorted(zip(map(lambda x: round(x, 4), rf.feature_importances_), name), \n",
    "             reverse=True))"
   ]
  },
  {
   "cell_type": "code",
   "execution_count": 10,
   "metadata": {
    "collapsed": false
   },
   "outputs": [
    {
     "name": "stderr",
     "output_type": "stream",
     "text": [
      "/usr/lib64/python3.4/site-packages/sklearn/cross_validation.py:44: DeprecationWarning: This module was deprecated in version 0.18 in favor of the model_selection module into which all the refactored classes and functions are moved. Also note that the interface of the new CV iterators are different from that of this module. This module will be removed in 0.20.\n",
      "  \"This module will be removed in 0.20.\", DeprecationWarning)\n"
     ]
    }
   ],
   "source": [
    "#Using top 29 columns based on Random Forest Regessor to predict the performance of different teams \n",
    "columns=['hit_OBP','hit_OPS','hit_SLG','hit_BA','pitch_WHIP','pitch_BB9','pitch_H9','pitch_HR9','pitch_FIP','pitch_WL',\n",
    "         'hit_RG','pitch_ERA','pitch_SOW','pitch_SO9','pitch_W','pitch_GS','pitch_G','hit_G','pitch_RAG','pitch_PAge',\n",
    "         'pitch_CG','pitch_GF','hit_BatAge','pitch_ER','pitch_H','pitch_BB','pitch_IP','pitch_cSho','pitch_BK']\n",
    "df3=df1[list(columns)].values\n",
    "from sklearn.cross_validation import train_test_split\n",
    "x_train,x_test,y_train,y_test=train_test_split(df3,df2,test_size=0.4)"
   ]
  },
  {
   "cell_type": "code",
   "execution_count": 23,
   "metadata": {
    "collapsed": false
   },
   "outputs": [
    {
     "data": {
      "text/plain": [
       "<matplotlib.text.Text at 0x7f6ed4f5e518>"
      ]
     },
     "execution_count": 23,
     "metadata": {},
     "output_type": "execute_result"
    },
    {
     "data": {
      "image/png": "[encoded data removed]",
      "text/plain": [
       "<matplotlib.figure.Figure at 0x7f6ed4e8da20>"
      ]
     },
     "metadata": {},
     "output_type": "display_data"
    }
   ],
   "source": [
    "#Applying knn on fist 29 features features to select k-nearest neighbor\n",
    "from sklearn.neighbors import KNeighborsClassifier\n",
    "from sklearn.cross_validation import cross_val_score\n",
    "columns=['hit_OBP','hit_OPS','hit_SLG','hit_BA','pitch_WHIP','pitch_BB9','pitch_H9','pitch_HR9','pitch_FIP','pitch_WL',\n",
    "         'hit_RG','pitch_ERA','pitch_SOW','pitch_SO9','pitch_W','pitch_GS','pitch_G','hit_G','pitch_RAG','pitch_PAge',\n",
    "         'pitch_CG','pitch_GF','hit_BatAge','pitch_ER','pitch_H','pitch_BB','pitch_IP','pitch_cSho','pitch_BK']\n",
    "df3=df1[list(columns)].values\n",
    "a=np.array(df2)\n",
    "df4=a.ravel()\n",
    "k_range=range(1,30)\n",
    "k_scores=[]\n",
    "for k in k_range:\n",
    "    knn=KNeighborsClassifier(n_neighbors=k)\n",
    "    scores=cross_val_score(knn,df3,df4,cv=10,scoring=\"accuracy\")   \n",
    "    k_scores.append(scores.mean())\n",
    "    \n",
    "import matplotlib.pyplot as plt\n",
    "%matplotlib inline\n",
    "plt.plot(k_range,k_scores)\n",
    "plt.xlabel('value of k for knn')\n",
    "plt.ylabel('Testing accuracy')\n"
   ]
  },
  {
   "cell_type": "code",
   "execution_count": 23,
   "metadata": {
    "collapsed": false
   },
   "outputs": [
    {
     "name": "stdout",
     "output_type": "stream",
     "text": [
      "0.5\n",
      "0.125\n",
      "0.25\n",
      "0.166666666667\n",
      "    performance\n",
      "167           0\n",
      "168           3\n",
      "169           2\n",
      "170           1\n",
      "171           0\n",
      "172           0\n",
      "173           1\n",
      "174           0\n",
      "['0' '0' '0' '0' '0' '0' '0' '0']\n"
     ]
    },
    {
     "name": "stderr",
     "output_type": "stream",
     "text": [
      "/usr/lib/python3.4/site-packages/ipykernel/__main__.py:8: DataConversionWarning: A column-vector y was passed when a 1d array was expected. Please change the shape of y to (n_samples, ), for example using ravel().\n",
      "/usr/lib64/python3.4/site-packages/sklearn/metrics/classification.py:1113: UndefinedMetricWarning: Precision is ill-defined and being set to 0.0 in labels with no predicted samples.\n",
      "  'precision', 'predicted', average, warn_for)\n",
      "/usr/lib64/python3.4/site-packages/sklearn/metrics/classification.py:1113: UndefinedMetricWarning: F-score is ill-defined and being set to 0.0 in labels with no predicted samples.\n",
      "  'precision', 'predicted', average, warn_for)\n"
     ]
    }
   ],
   "source": [
    "#Using top 29 columns based on Random Forest Regessor to predict the performance of different teams by knn model\n",
    "from sklearn.metrics import recall_score\n",
    "from sklearn.metrics import f1_score\n",
    "\n",
    "\n",
    "from sklearn import metrics\n",
    "knn=KNeighborsClassifier(n_neighbors=2)\n",
    "knn.fit(x_train,y_train)\n",
    "y_pred=knn.predict(x_test)\n",
    "print(metrics.accuracy_score(y_test,y_pred))\n",
    "print(metrics.precision_score(y_test,y_pred,average='macro'))\n",
    "print(metrics.recall_score(y_test, y_pred, average='macro'))\n",
    "print(metrics.f1_score(y_test, y_pred, average='macro'))\n",
    "print(y_test)\n",
    "print(y_pred)"
   ]
  },
  {
   "cell_type": "code",
   "execution_count": 72,
   "metadata": {
    "collapsed": false
   },
   "outputs": [
    {
     "name": "stdout",
     "output_type": "stream",
     "text": [
      "0.342857142857\n",
      "0.294429050356\n",
      "0.274774774775\n",
      "0.27946969697\n",
      "    performance\n",
      "80            0\n",
      "10            0\n",
      "125           0\n",
      "76            0\n",
      "26            1\n",
      "98            1\n",
      "31            0\n",
      "36            1\n",
      "118           0\n",
      "168           3\n",
      "18            2\n",
      "54            0\n",
      "58            1\n",
      "15            0\n",
      "141           1\n",
      "136           0\n",
      "41            2\n",
      "172           0\n",
      "56            0\n",
      "111           0\n",
      "32            2\n",
      "154           0\n",
      "0             3\n",
      "116           3\n",
      "150           0\n",
      "63            0\n",
      "45            0\n",
      "47            3\n",
      "170           1\n",
      "169           2\n",
      "..          ...\n",
      "142           0\n",
      "135           0\n",
      "77            1\n",
      "83            1\n",
      "81            3\n",
      "138           1\n",
      "4             0\n",
      "11            0\n",
      "93            0\n",
      "38            0\n",
      "120           0\n",
      "89            0\n",
      "102           0\n",
      "149           0\n",
      "59            0\n",
      "61            2\n",
      "127           0\n",
      "106           0\n",
      "64            1\n",
      "16            1\n",
      "49            0\n",
      "112           0\n",
      "37            3\n",
      "29            2\n",
      "78            2\n",
      "25            0\n",
      "67            0\n",
      "12            3\n",
      "33            1\n",
      "153           2\n",
      "\n",
      "[70 rows x 1 columns] ['0' '0' '3' '2' '0' '2' '1' '1' '2' '0' '0' '1' '3' '0' '1' '0' '1' '0'\n",
      " '1' '1' '0' '3' '0' '1' '2' '1' '1' '1' '0' '2' '0' '2' '0' '0' '0' '2'\n",
      " '2' '2' '2' '3' '0' '2' '0' '1' '0' '2' '0' '0' '3' '0' '3' '0' '0' '2'\n",
      " '1' '0' '2' '0' '2' '1' '0' '1' '1' '0' '0' '0' '2' '3' '1' '1']\n"
     ]
    },
    {
     "name": "stderr",
     "output_type": "stream",
     "text": [
      "/usr/lib/python3.4/site-packages/ipykernel/__main__.py:6: DataConversionWarning: A column-vector y was passed when a 1d array was expected. Please change the shape of y to (n_samples, ), for example using ravel().\n"
     ]
    }
   ],
   "source": [
    "#Applying KNN on same x_train,y_train,x_test and y_test to predict the performance of different\n",
    "#teams by KNN Model\n",
    "from sklearn.metrics import recall_score\n",
    "from sklearn.metrics import f1_score\n",
    "from sklearn import metrics\n",
    "knn=KNeighborsClassifier(n_neighbors=1)\n",
    "knn.fit(new_x_train,new_y_train)\n",
    "y_pred=knn.predict(new_x_test)\n",
    "print(metrics.accuracy_score(new_y_test,y_pred))\n",
    "print(metrics.precision_score(new_y_test,y_pred,average='macro'))\n",
    "print(metrics.recall_score(new_y_test, y_pred, average='macro'))\n",
    "print(metrics.f1_score(new_y_test, y_pred, average='macro'))\n",
    "print(new_y_test,y_pred)\n"
   ]
  },
  {
   "cell_type": "code",
   "execution_count": 24,
   "metadata": {
    "collapsed": false
   },
   "outputs": [
    {
     "name": "stdout",
     "output_type": "stream",
     "text": [
      "0.492012383901\n",
      "0.24204729481\n"
     ]
    },
    {
     "name": "stderr",
     "output_type": "stream",
     "text": [
      "/usr/lib64/python3.4/site-packages/sklearn/metrics/classification.py:1113: UndefinedMetricWarning: Precision is ill-defined and being set to 0.0 in labels with no predicted samples.\n",
      "  'precision', 'predicted', average, warn_for)\n",
      "/usr/lib64/python3.4/site-packages/sklearn/metrics/classification.py:1113: UndefinedMetricWarning: Precision is ill-defined and being set to 0.0 in labels with no predicted samples.\n",
      "  'precision', 'predicted', average, warn_for)\n",
      "/usr/lib64/python3.4/site-packages/sklearn/metrics/classification.py:1113: UndefinedMetricWarning: Precision is ill-defined and being set to 0.0 in labels with no predicted samples.\n",
      "  'precision', 'predicted', average, warn_for)\n",
      "/usr/lib64/python3.4/site-packages/sklearn/metrics/classification.py:1113: UndefinedMetricWarning: Precision is ill-defined and being set to 0.0 in labels with no predicted samples.\n",
      "  'precision', 'predicted', average, warn_for)\n",
      "/usr/lib64/python3.4/site-packages/sklearn/metrics/classification.py:1113: UndefinedMetricWarning: Precision is ill-defined and being set to 0.0 in labels with no predicted samples.\n",
      "  'precision', 'predicted', average, warn_for)\n",
      "/usr/lib64/python3.4/site-packages/sklearn/metrics/classification.py:1113: UndefinedMetricWarning: Precision is ill-defined and being set to 0.0 in labels with no predicted samples.\n",
      "  'precision', 'predicted', average, warn_for)\n",
      "/usr/lib64/python3.4/site-packages/sklearn/metrics/classification.py:1113: UndefinedMetricWarning: Precision is ill-defined and being set to 0.0 in labels with no predicted samples.\n",
      "  'precision', 'predicted', average, warn_for)\n",
      "/usr/lib64/python3.4/site-packages/sklearn/metrics/classification.py:1113: UndefinedMetricWarning: Precision is ill-defined and being set to 0.0 in labels with no predicted samples.\n",
      "  'precision', 'predicted', average, warn_for)\n",
      "/usr/lib64/python3.4/site-packages/sklearn/metrics/classification.py:1113: UndefinedMetricWarning: Precision is ill-defined and being set to 0.0 in labels with no predicted samples.\n",
      "  'precision', 'predicted', average, warn_for)\n"
     ]
    }
   ],
   "source": [
    "#Applying Logistic Regression on same x_train,y_train,x_test and y_test to predict the performance of different\n",
    "#teams by Logistic Regression Model\n",
    "from sklearn.linear_model import LogisticRegression\n",
    "columns=['hit_OBP','hit_BA','hit_OPS','hit_SLG','pitch_WHIP']\n",
    "features=df1[list(columns)].values\n",
    "#from sklearn.cross_validation import train_test_split\n",
    "#x_train1,x_test1,y_train1,y_test1=train_test_split(features,c)\n",
    "logreg=LogisticRegression()\n",
    "logreg.fit(df3,df4)\n",
    "#y_pred=logreg.predict(x_test1)\n",
    "print (cross_val_score(logreg,df3,df4,cv=10,scoring=\"accuracy\").mean())\n",
    "print (cross_val_score(logreg,df3,df4,cv=10,scoring=\"precision_macro\").mean())"
   ]
  },
  {
   "cell_type": "code",
   "execution_count": 33,
   "metadata": {
    "collapsed": false
   },
   "outputs": [
    {
     "name": "stdout",
     "output_type": "stream",
     "text": [
      "0.509564413485\n",
      "0.278728273361\n"
     ]
    },
    {
     "name": "stderr",
     "output_type": "stream",
     "text": [
      "/usr/lib64/python3.4/site-packages/sklearn/metrics/classification.py:1113: UndefinedMetricWarning: Precision is ill-defined and being set to 0.0 in labels with no predicted samples.\n",
      "  'precision', 'predicted', average, warn_for)\n",
      "/usr/lib64/python3.4/site-packages/sklearn/metrics/classification.py:1113: UndefinedMetricWarning: Precision is ill-defined and being set to 0.0 in labels with no predicted samples.\n",
      "  'precision', 'predicted', average, warn_for)\n",
      "/usr/lib64/python3.4/site-packages/sklearn/metrics/classification.py:1113: UndefinedMetricWarning: Precision is ill-defined and being set to 0.0 in labels with no predicted samples.\n",
      "  'precision', 'predicted', average, warn_for)\n",
      "/usr/lib64/python3.4/site-packages/sklearn/metrics/classification.py:1113: UndefinedMetricWarning: Precision is ill-defined and being set to 0.0 in labels with no predicted samples.\n",
      "  'precision', 'predicted', average, warn_for)\n",
      "/usr/lib64/python3.4/site-packages/sklearn/metrics/classification.py:1113: UndefinedMetricWarning: Precision is ill-defined and being set to 0.0 in labels with no predicted samples.\n",
      "  'precision', 'predicted', average, warn_for)\n",
      "/usr/lib64/python3.4/site-packages/sklearn/metrics/classification.py:1113: UndefinedMetricWarning: Precision is ill-defined and being set to 0.0 in labels with no predicted samples.\n",
      "  'precision', 'predicted', average, warn_for)\n",
      "/usr/lib64/python3.4/site-packages/sklearn/metrics/classification.py:1113: UndefinedMetricWarning: Precision is ill-defined and being set to 0.0 in labels with no predicted samples.\n",
      "  'precision', 'predicted', average, warn_for)\n",
      "/usr/lib64/python3.4/site-packages/sklearn/metrics/classification.py:1113: UndefinedMetricWarning: Precision is ill-defined and being set to 0.0 in labels with no predicted samples.\n",
      "  'precision', 'predicted', average, warn_for)\n",
      "/usr/lib64/python3.4/site-packages/sklearn/metrics/classification.py:1113: UndefinedMetricWarning: Precision is ill-defined and being set to 0.0 in labels with no predicted samples.\n",
      "  'precision', 'predicted', average, warn_for)\n"
     ]
    }
   ],
   "source": [
    "## from sklearn import metrics applying knn with k-fold cross validation\n",
    "## So we are getting highest accuracy with k=17 for knn with (k-mean cross valivation with k=10)\n",
    "from sklearn.metrics import precision_score\n",
    "from sklearn.cross_validation import cross_val_score\n",
    "\n",
    "#from sklearn.cross_validation import train_test_split\n",
    "#x_train,x_test,y_train,y_test=train_test_split(features1,c,test_size=0.3)\n",
    "from sklearn import metrics\n",
    "knn=KNeighborsClassifier(n_neighbors=17)\n",
    "knn.fit(df3,df4)\n",
    "print (cross_val_score(knn,df3,df4,cv=10,scoring=\"accuracy\").mean())\n",
    "print (cross_val_score(knn,df3,df4,cv=10,scoring=\"precision_macro\").mean())"
   ]
  }
 ],
 "metadata": {
  "kernelspec": {
   "display_name": "Python 3",
   "language": "python",
   "name": "python3"
  },
  "language_info": {
   "codemirror_mode": {
    "name": "ipython",
    "version": 3
   },
   "file_extension": ".py",
   "mimetype": "text/x-python",
   "name": "python",
   "nbconvert_exporter": "python",
   "pygments_lexer": "ipython3",
   "version": "3.4.3"
  }
 },
 "nbformat": 4,
 "nbformat_minor": 0
}
