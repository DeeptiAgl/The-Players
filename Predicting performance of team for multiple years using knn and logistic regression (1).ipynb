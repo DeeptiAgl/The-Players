{
 "cells": [
  {
   "cell_type": "code",
   "execution_count": 2,
   "metadata": {
    "collapsed": true
   },
   "outputs": [],
   "source": [
    "import pandas as pd\n",
    "import numpy as np"
   ]
  },
  {
   "cell_type": "code",
   "execution_count": 3,
   "metadata": {
    "collapsed": true
   },
   "outputs": [],
   "source": [
    "df1=pd.read_csv(\"/home/rsingla1/project_data_latest.csv\")"
   ]
  },
  {
   "cell_type": "code",
   "execution_count": 4,
   "metadata": {
    "collapsed": false
   },
   "outputs": [],
   "source": [
    "bins=[-1,2,6,10,11]\n",
    "group_names=['0','1','2','3']\n",
    "df1['performance']=pd.cut(df1['playoff_wins'],bins,labels=group_names)\n",
    "df2=df1[[\"performance\"]]\n"
   ]
  },
  {
   "cell_type": "code",
   "execution_count": 5,
   "metadata": {
    "collapsed": false
   },
   "outputs": [
    {
     "data": {
      "text/plain": [
       "Index(['year', 'Tm', 'playoff_wins', 'world_series_ind', 'round', 'hit_numBat',\n",
       "       'hit_BatAge', 'hit_RG', 'hit_G', 'hit_PA', 'hit_AB', 'hit_R_scored',\n",
       "       'hit_H', 'hit_2B', 'hit_3B', 'hit_HR', 'hit_RBI', 'hit_SB', 'hit_CS',\n",
       "       'hit_BB', 'hit_SO', 'hit_BA', 'hit_OBP', 'hit_SLG', 'hit_OPS',\n",
       "       'hit_OPS+', 'hit_TB', 'hit_GDP', 'hit_HBP', 'hit_SH', 'hit_SF',\n",
       "       'hit_IBB', 'hit_LOB', 'pitch_numP', 'pitch_PAge', 'pitch_RAG',\n",
       "       'pitch_W', 'pitch_L', 'pitch_WL', 'pitch_ERA', 'pitch_G', 'pitch_GS',\n",
       "       'pitch_GF', 'pitch_CG', 'pitch_tSho', 'pitch_cSho', 'pitch_SV',\n",
       "       'pitch_IP', 'pitch_H', 'pitch_R_allowed', 'pitch_ER', 'pitch_HR',\n",
       "       'pitch_BB', 'pitch_IBB', 'pitch_SO', 'pitch_HBP', 'pitch_BK',\n",
       "       'pitch_WP', 'pitch_BF', 'pitch_ERAplus', 'pitch_FIP', 'pitch_WHIP',\n",
       "       'pitch_H9', 'pitch_HR9', 'pitch_BB9', 'pitch_SO9', 'pitch_SOW',\n",
       "       'pitch_LOB', 'performance'],\n",
       "      dtype='object')"
      ]
     },
     "execution_count": 5,
     "metadata": {},
     "output_type": "execute_result"
    }
   ],
   "source": [
    "df1.columns"
   ]
  },
  {
   "cell_type": "code",
   "execution_count": 6,
   "metadata": {
    "collapsed": true
   },
   "outputs": [],
   "source": [
    "df1.drop([\"round\",\"playoff_wins\",\"performance\",\"Tm\",\"world_series_ind\"],axis=1,inplace=True)"
   ]
  },
  {
   "cell_type": "code",
   "execution_count": 7,
   "metadata": {
    "collapsed": false
   },
   "outputs": [
    {
     "name": "stdout",
     "output_type": "stream",
     "text": [
      "Features sorted by their rank:\n",
      "[(1, 'hit_OBP'), (2, 'hit_OPS'), (3, 'hit_SLG'), (4, 'hit_BA'), (5, 'pitch_WHIP'), (6, 'pitch_BB9'), (7, 'pitch_H9'), (8, 'pitch_HR9'), (9, 'pitch_FIP'), (10, 'pitch_WL'), (11, 'hit_RG'), (12, 'pitch_ERA'), (13, 'pitch_SOW'), (14, 'pitch_SO9'), (15, 'pitch_W'), (16, 'pitch_GS'), (17, 'pitch_G'), (18, 'hit_G'), (19, 'pitch_RAG'), (20, 'pitch_PAge'), (21, 'pitch_CG'), (22, 'pitch_GF'), (23, 'hit_BatAge'), (24, 'pitch_ER'), (25, 'pitch_H'), (26, 'pitch_BB'), (27, 'pitch_IP'), (28, 'pitch_cSho'), (29, 'pitch_BK'), (30, 'hit_H'), (31, 'hit_AB'), (32, 'hit_SF'), (33, 'hit_SH'), (34, 'hit_PA'), (35, 'pitch_L'), (36, 'pitch_SO'), (37, 'hit_LOB'), (38, 'pitch_LOB'), (39, 'pitch_BF'), (40, 'pitch_R_allowed'), (41, 'hit_TB'), (42, 'hit_RBI'), (43, 'pitch_tSho'), (44, 'hit_HR'), (45, 'pitch_numP'), (46, 'hit_BB'), (47, 'hit_HBP'), (48, 'hit_GDP'), (49, 'year'), (50, 'hit_CS'), (51, 'pitch_WP'), (52, 'pitch_HBP'), (53, 'hit_R_scored'), (54, 'hit_2B'), (55, 'pitch_HR'), (56, 'pitch_ERAplus'), (57, 'pitch_IBB'), (58, 'hit_3B'), (59, 'hit_OPS+'), (60, 'hit_SB'), (61, 'hit_SO'), (62, 'pitch_SV'), (63, 'hit_numBat'), (64, 'hit_IBB')]\n"
     ]
    },
    {
     "name": "stderr",
     "output_type": "stream",
     "text": [
      "/usr/lib64/python3.4/site-packages/sklearn/utils/validation.py:526: DataConversionWarning: A column-vector y was passed when a 1d array was expected. Please change the shape of y to (n_samples, ), for example using ravel().\n",
      "  y = column_or_1d(y, warn=True)\n"
     ]
    }
   ],
   "source": [
    "#use linear regression as the model for feature selection\n",
    "from sklearn.feature_selection import RFE\n",
    "from sklearn.linear_model import LinearRegression\n",
    "name=df1.columns.values\n",
    "name\n",
    "lr = LinearRegression()\n",
    "#rank all features, i.e continue the elimination until the last one\n",
    "rfe = RFE(lr, n_features_to_select=1)\n",
    "rfe.fit(df1,df2)\n",
    "print (\"Features sorted by their rank:\")\n",
    "print (sorted(zip(map(lambda x: round(x, 4), rfe.ranking_),name)))"
   ]
  },
  {
   "cell_type": "code",
   "execution_count": 8,
   "metadata": {
    "collapsed": false
   },
   "outputs": [
    {
     "name": "stdout",
     "output_type": "stream",
     "text": [
      "[(0.028400000000000002, 'hit_SO'), (0.027199999999999998, 'pitch_HBP'), (0.027099999999999999, 'hit_OBP'), (0.025999999999999999, 'hit_CS'), (0.023400000000000001, 'pitch_WP'), (0.023, 'pitch_BK'), (0.0223, 'hit_IBB'), (0.022200000000000001, 'hit_TB'), (0.021600000000000001, 'pitch_tSho'), (0.021100000000000001, 'pitch_WHIP'), (0.0207, 'hit_HR'), (0.020500000000000001, 'hit_2B'), (0.0201, 'hit_3B'), (0.02, 'pitch_SV'), (0.019599999999999999, 'pitch_ERAplus'), (0.019599999999999999, 'hit_BB'), (0.019300000000000001, 'pitch_ER'), (0.018800000000000001, 'hit_H'), (0.018700000000000001, 'pitch_BB9'), (0.0184, 'pitch_PAge'), (0.0184, 'pitch_HR'), (0.017999999999999999, 'pitch_numP'), (0.017299999999999999, 'hit_OPS+'), (0.016799999999999999, 'pitch_BF'), (0.016400000000000001, 'hit_BA'), (0.016299999999999999, 'pitch_R_allowed'), (0.016299999999999999, 'hit_HBP'), (0.016199999999999999, 'hit_BatAge'), (0.0161, 'pitch_SO9'), (0.016, 'hit_LOB'), (0.015900000000000001, 'pitch_BB'), (0.015599999999999999, 'pitch_H9'), (0.0154, 'hit_AB'), (0.0152, 'hit_SF'), (0.014999999999999999, 'pitch_W'), (0.0149, 'pitch_WL'), (0.014500000000000001, 'pitch_HR9'), (0.014200000000000001, 'hit_numBat'), (0.013599999999999999, 'hit_R_scored'), (0.0135, 'pitch_cSho'), (0.0134, 'hit_OPS'), (0.013299999999999999, 'pitch_LOB'), (0.013100000000000001, 'pitch_FIP'), (0.0129, 'pitch_SOW'), (0.012800000000000001, 'year'), (0.012699999999999999, 'pitch_GF'), (0.012500000000000001, 'pitch_L'), (0.012500000000000001, 'pitch_H'), (0.0123, 'hit_SH'), (0.012200000000000001, 'pitch_IBB'), (0.0115, 'hit_PA'), (0.010500000000000001, 'pitch_IP'), (0.0103, 'hit_SB'), (0.0094999999999999998, 'pitch_RAG'), (0.0094999999999999998, 'pitch_ERA'), (0.0091000000000000004, 'hit_GDP'), (0.0088999999999999999, 'hit_SLG'), (0.0088000000000000005, 'pitch_SO'), (0.0080000000000000002, 'hit_RG'), (0.0076, 'pitch_CG'), (0.0071999999999999998, 'hit_G'), (0.0064999999999999997, 'pitch_G'), (0.0064999999999999997, 'hit_RBI'), (0.0047999999999999996, 'pitch_GS')]\n"
     ]
    },
    {
     "name": "stderr",
     "output_type": "stream",
     "text": [
      "/usr/lib/python3.4/site-packages/ipykernel/__main__.py:6: DataConversionWarning: A column-vector y was passed when a 1d array was expected. Please change the shape of y to (n_samples,), for example using ravel().\n"
     ]
    }
   ],
   "source": [
    "# Feature Selection using Extra Tree Classifier\n",
    "from sklearn import metrics\n",
    "from sklearn.ensemble import ExtraTreesClassifier\n",
    "# fit an Extra Trees model to the data\n",
    "model = ExtraTreesClassifier()\n",
    "model.fit(df1,df2)\n",
    "#y=k_scores.append(x.mean())\n",
    "# display the relative importance of each attribute\n",
    "print (sorted(zip(map(lambda x: round(x, 4), model.feature_importances_),name), \n",
    "             reverse=True))"
   ]
  },
  {
   "cell_type": "code",
   "execution_count": 9,
   "metadata": {
    "collapsed": false
   },
   "outputs": [
    {
     "name": "stdout",
     "output_type": "stream",
     "text": [
      "Features sorted by their score:\n",
      "[(0.077200000000000005, 'pitch_PAge'), (0.056899999999999999, 'pitch_ERAplus'), (0.047899999999999998, 'pitch_HBP'), (0.0448, 'pitch_IBB'), (0.044600000000000001, 'pitch_WHIP'), (0.042999999999999997, 'hit_GDP'), (0.0378, 'pitch_WP'), (0.035000000000000003, 'hit_BB'), (0.031800000000000002, 'hit_2B'), (0.030800000000000001, 'hit_SO'), (0.030300000000000001, 'hit_BA'), (0.028400000000000002, 'pitch_H'), (0.028000000000000001, 'pitch_SV'), (0.026499999999999999, 'pitch_H9'), (0.024, 'pitch_BB'), (0.0224, 'hit_PA'), (0.020199999999999999, 'hit_SH'), (0.019900000000000001, 'pitch_L'), (0.0177, 'pitch_tSho'), (0.016500000000000001, 'hit_3B'), (0.016299999999999999, 'hit_TB'), (0.015800000000000002, 'pitch_SO'), (0.015599999999999999, 'hit_IBB'), (0.0144, 'hit_AB'), (0.0143, 'hit_CS'), (0.0137, 'pitch_ERA'), (0.0129, 'pitch_R_allowed'), (0.012699999999999999, 'pitch_CG'), (0.012699999999999999, 'hit_H'), (0.0126, 'hit_BatAge'), (0.012200000000000001, 'hit_numBat'), (0.0117, 'pitch_RAG'), (0.011599999999999999, 'hit_OBP'), (0.0115, 'hit_OPS+'), (0.0111, 'hit_SB'), (0.010800000000000001, 'pitch_HR'), (0.010200000000000001, 'pitch_W'), (0.0095999999999999992, 'hit_LOB'), (0.0091999999999999998, 'hit_OPS'), (0.0086, 'pitch_BB9'), (0.0083000000000000001, 'pitch_BF'), (0.0061999999999999998, 'pitch_FIP'), (0.0057000000000000002, 'pitch_WL'), (0.0048999999999999998, 'hit_SF'), (0.0047000000000000002, 'pitch_SO9'), (0.0047000000000000002, 'pitch_GF'), (0.0044000000000000003, 'pitch_numP'), (0.0041999999999999997, 'pitch_LOB'), (0.0041999999999999997, 'pitch_BK'), (0.0040000000000000001, 'pitch_IP'), (0.0033999999999999998, 'pitch_HR9'), (0.0028, 'hit_RG'), (0.0025000000000000001, 'hit_SLG'), (0.002, 'hit_RBI'), (0.0016999999999999999, 'pitch_SOW'), (0.0015, 'pitch_cSho'), (0.0011999999999999999, 'pitch_ER'), (0.00080000000000000004, 'hit_R_scored'), (0.00050000000000000001, 'year'), (0.00040000000000000002, 'pitch_GS'), (0.00040000000000000002, 'hit_HBP'), (0.00020000000000000001, 'hit_G'), (0.0, 'pitch_G'), (0.0, 'hit_HR')]\n"
     ]
    },
    {
     "name": "stderr",
     "output_type": "stream",
     "text": [
      "/usr/lib/python3.4/site-packages/ipykernel/__main__.py:4: DataConversionWarning: A column-vector y was passed when a 1d array was expected. Please change the shape of y to (n_samples,), for example using ravel().\n"
     ]
    }
   ],
   "source": [
    "from sklearn.ensemble import RandomForestRegressor\n",
    "import numpy as np\n",
    "rf = RandomForestRegressor()\n",
    "rf.fit(df1, df2)\n",
    "print (\"Features sorted by their score:\")\n",
    "print (sorted(zip(map(lambda x: round(x, 4), rf.feature_importances_), name), \n",
    "             reverse=True))"
   ]
  },
  {
   "cell_type": "code",
   "execution_count": 56,
   "metadata": {
    "collapsed": false
   },
   "outputs": [],
   "source": [
    "#Using top 29 columns based on Random Forest Regessor to predict the performance of different teams \n",
    "columns=['hit_OBP','hit_OPS','hit_SLG','hit_BA','pitch_WHIP','pitch_BB9','pitch_H9','pitch_HR9','pitch_FIP','pitch_WL',\n",
    "         'hit_RG','pitch_ERA','pitch_SOW','pitch_SO9','pitch_W','pitch_GS','pitch_G','hit_G','pitch_RAG','pitch_PAge',\n",
    "         'pitch_CG','pitch_GF','hit_BatAge','pitch_ER','pitch_H','pitch_BB','pitch_IP','pitch_cSho','pitch_BK']\n",
    "df3=df1[list(columns)].values\n",
    "from sklearn.cross_validation import train_test_split\n",
    "x_train,x_test,y_train,y_test=train_test_split(df3,df2,test_size=0.4)"
   ]
  },
  {
   "cell_type": "code",
   "execution_count": 57,
   "metadata": {
    "collapsed": true
   },
   "outputs": [],
   "source": [
    "# Fixing the training and test dataset by assigning new variables\n",
    "new_x_train=x_train\n",
    "new_x_test=x_test\n",
    "new_y_train=y_train\n",
    "new_y_test=y_test"
   ]
  },
  {
   "cell_type": "code",
   "execution_count": 69,
   "metadata": {
    "collapsed": false
   },
   "outputs": [
    {
     "name": "stderr",
     "output_type": "stream",
     "text": [
      "/usr/lib/python3.4/site-packages/ipykernel/__main__.py:9: DataConversionWarning: A column-vector y was passed when a 1d array was expected. Please change the shape of y to (n_samples, ), for example using ravel().\n",
      "/usr/lib64/python3.4/site-packages/sklearn/externals/joblib/parallel.py:131: VisibleDeprecationWarning: using a non-integer number instead of an integer will result in an error in the future\n",
      "  return [func(*args, **kwargs) for func, args, kwargs in self.items]\n"
     ]
    },
    {
     "data": {
      "text/plain": [
       "<matplotlib.text.Text at 0x7f892335ce48>"
      ]
     },
     "execution_count": 69,
     "metadata": {},
     "output_type": "execute_result"
    },
    {
     "data": {
      "image/png": "[encoded data removed]",
      "text/plain": [
       "<matplotlib.figure.Figure at 0x7f89233fd860>"
      ]
     },
     "metadata": {},
     "output_type": "display_data"
    }
   ],
   "source": [
    "from sklearn.neighbors import KNeighborsClassifier\n",
    "import numpy as np\n",
    "k_range=np.linspace(start=1,stop=15, num=10)\n",
    "\n",
    "scores=[]\n",
    "for k in k_range:\n",
    "\n",
    "    knn=KNeighborsClassifier(n_neighbors=k)\n",
    "    knn.fit(new_x_train,new_y_train)\n",
    "    y_pred=knn.predict(new_x_test)\n",
    "    scores.append(metrics.accuracy_score(new_y_test,y_pred))\n",
    "    \n",
    "    \n",
    "import matplotlib.pyplot as plt\n",
    "%matplotlib inline\n",
    "plt.plot(k_range,scores)\n",
    "plt.xlabel('value of k for knn')\n",
    "plt.ylabel('Testing accuracy')"
   ]
  },
  {
   "cell_type": "code",
   "execution_count": 86,
   "metadata": {
    "collapsed": false
   },
   "outputs": [
    {
     "name": "stdout",
     "output_type": "stream",
     "text": [
      "0.342857142857\n",
      "0.294429050356\n",
      "0.274774774775\n",
      "0.27946969697\n",
      "['0' '0' '0' '0' '1' '1' '0' '1' '0' '3' '2' '0' '1' '0' '1' '0' '2' '0'\n",
      " '0' '0' '2' '0' '3' '3' '0' '0' '0' '3' '1' '2' '2' '3' '0' '0' '1' '0'\n",
      " '1' '0' '1' '3' '0' '0' '1' '1' '3' '1' '0' '0' '0' '0' '0' '0' '0' '0'\n",
      " '0' '2' '0' '0' '1' '1' '0' '0' '3' '2' '2' '0' '0' '3' '1' '2']\n",
      "['0' '0' '3' '2' '0' '2' '1' '1' '2' '0' '0' '1' '3' '0' '1' '0' '1' '0'\n",
      " '1' '1' '0' '3' '0' '1' '2' '1' '1' '1' '0' '2' '0' '2' '0' '0' '0' '2'\n",
      " '2' '2' '2' '3' '0' '2' '0' '1' '0' '2' '0' '0' '3' '0' '3' '0' '0' '2'\n",
      " '1' '0' '2' '0' '2' '1' '0' '1' '1' '0' '0' '0' '2' '3' '1' '1']\n"
     ]
    },
    {
     "name": "stderr",
     "output_type": "stream",
     "text": [
      "/usr/lib/python3.4/site-packages/ipykernel/__main__.py:8: DataConversionWarning: A column-vector y was passed when a 1d array was expected. Please change the shape of y to (n_samples, ), for example using ravel().\n"
     ]
    }
   ],
   "source": [
    "### Applying knn on top 29 features features\n",
    "from sklearn.metrics import recall_score\n",
    "from sklearn.metrics import f1_score\n",
    "\n",
    "\n",
    "from sklearn import metrics\n",
    "knn=KNeighborsClassifier(n_neighbors=1)\n",
    "knn.fit(new_x_train,new_y_train)\n",
    "y_pred=knn.predict(new_x_test)\n",
    "print(metrics.accuracy_score(new_y_test,y_pred))\n",
    "print(metrics.precision_score(new_y_test,y_pred,average='macro'))\n",
    "print(metrics.recall_score(new_y_test, y_pred, average='macro'))\n",
    "print(metrics.f1_score(new_y_test, y_pred, average='macro'))\n",
    "df3=new_y_test.as_matrix()\n",
    "df4=np.array(df3)\n",
    "df5=df4.ravel()\n",
    "print(df5)\n",
    "print(y_pred)"
   ]
  },
  {
   "cell_type": "code",
   "execution_count": null,
   "metadata": {
    "collapsed": true
   },
   "outputs": [],
   "source": [
    "#Applying Logistic Regression on same x_train,y_train,x_test and y_test for top 29 features\n",
    "from sklearn.metrics import recall_score\n",
    "from sklearn.metrics import f1_score\n",
    "from sklearn import metrics\n",
    "knn=KNeighborsClassifier(n_neighbors=1)\n",
    "knn.fit(new_x_train,new_y_train)\n",
    "y_pred=knn.predict(new_x_test)\n",
    "print(metrics.accuracy_score(new_y_test,y_pred))\n",
    "print(metrics.precision_score(new_y_test,y_pred,average='macro'))\n",
    "print(metrics.recall_score(new_y_test, y_pred, average='macro'))\n",
    "print(metrics.f1_score(new_y_test, y_pred, average='macro'))\n",
    "df3=new_y_test.as_matrix()\n",
    "df4=np.array(df5)\n",
    "df5=b.ravel()\n",
    "print(df6)\n",
    "print(y_pred)"
   ]
  }
 ],
 "metadata": {
  "kernelspec": {
   "display_name": "Python 3",
   "language": "python",
   "name": "python3"
  },
  "language_info": {
   "codemirror_mode": {
    "name": "ipython",
    "version": 3
   },
   "file_extension": ".py",
   "mimetype": "text/x-python",
   "name": "python",
   "nbconvert_exporter": "python",
   "pygments_lexer": "ipython3",
   "version": "3.4.3"
  }
 },
 "nbformat": 4,
 "nbformat_minor": 0
}
