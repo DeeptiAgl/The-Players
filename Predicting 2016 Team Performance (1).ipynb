{
 "cells": [
  {
   "cell_type": "code",
   "execution_count": 1,
   "metadata": {
    "collapsed": true
   },
   "outputs": [],
   "source": [
    "import pandas as pd\n",
    "import numpy as np"
   ]
  },
  {
   "cell_type": "code",
   "execution_count": 2,
   "metadata": {
    "collapsed": true
   },
   "outputs": [],
   "source": [
    "df1=pd.read_csv(\"/home/rsingla1/project_data_latest.csv\")"
   ]
  },
  {
   "cell_type": "code",
   "execution_count": 6,
   "metadata": {
    "collapsed": false
   },
   "outputs": [
    {
     "data": {
      "text/html": [
       "<div>\n",
       "<table border=\"1\" class=\"dataframe\">\n",
       "  <thead>\n",
       "    <tr style=\"text-align: right;\">\n",
       "      <th></th>\n",
       "      <th>performance</th>\n",
       "    </tr>\n",
       "  </thead>\n",
       "  <tbody>\n",
       "    <tr>\n",
       "      <th>0</th>\n",
       "      <td>3</td>\n",
       "    </tr>\n",
       "    <tr>\n",
       "      <th>1</th>\n",
       "      <td>0</td>\n",
       "    </tr>\n",
       "    <tr>\n",
       "      <th>2</th>\n",
       "      <td>1</td>\n",
       "    </tr>\n",
       "    <tr>\n",
       "      <th>3</th>\n",
       "      <td>2</td>\n",
       "    </tr>\n",
       "    <tr>\n",
       "      <th>4</th>\n",
       "      <td>0</td>\n",
       "    </tr>\n",
       "    <tr>\n",
       "      <th>5</th>\n",
       "      <td>0</td>\n",
       "    </tr>\n",
       "    <tr>\n",
       "      <th>6</th>\n",
       "      <td>0</td>\n",
       "    </tr>\n",
       "    <tr>\n",
       "      <th>7</th>\n",
       "      <td>1</td>\n",
       "    </tr>\n",
       "    <tr>\n",
       "      <th>8</th>\n",
       "      <td>2</td>\n",
       "    </tr>\n",
       "    <tr>\n",
       "      <th>9</th>\n",
       "      <td>1</td>\n",
       "    </tr>\n",
       "    <tr>\n",
       "      <th>10</th>\n",
       "      <td>0</td>\n",
       "    </tr>\n",
       "    <tr>\n",
       "      <th>11</th>\n",
       "      <td>0</td>\n",
       "    </tr>\n",
       "    <tr>\n",
       "      <th>12</th>\n",
       "      <td>3</td>\n",
       "    </tr>\n",
       "    <tr>\n",
       "      <th>13</th>\n",
       "      <td>0</td>\n",
       "    </tr>\n",
       "    <tr>\n",
       "      <th>14</th>\n",
       "      <td>1</td>\n",
       "    </tr>\n",
       "    <tr>\n",
       "      <th>15</th>\n",
       "      <td>0</td>\n",
       "    </tr>\n",
       "    <tr>\n",
       "      <th>16</th>\n",
       "      <td>1</td>\n",
       "    </tr>\n",
       "    <tr>\n",
       "      <th>17</th>\n",
       "      <td>1</td>\n",
       "    </tr>\n",
       "    <tr>\n",
       "      <th>18</th>\n",
       "      <td>2</td>\n",
       "    </tr>\n",
       "    <tr>\n",
       "      <th>19</th>\n",
       "      <td>0</td>\n",
       "    </tr>\n",
       "    <tr>\n",
       "      <th>20</th>\n",
       "      <td>0</td>\n",
       "    </tr>\n",
       "    <tr>\n",
       "      <th>21</th>\n",
       "      <td>0</td>\n",
       "    </tr>\n",
       "    <tr>\n",
       "      <th>22</th>\n",
       "      <td>0</td>\n",
       "    </tr>\n",
       "    <tr>\n",
       "      <th>23</th>\n",
       "      <td>1</td>\n",
       "    </tr>\n",
       "    <tr>\n",
       "      <th>24</th>\n",
       "      <td>0</td>\n",
       "    </tr>\n",
       "    <tr>\n",
       "      <th>25</th>\n",
       "      <td>0</td>\n",
       "    </tr>\n",
       "    <tr>\n",
       "      <th>26</th>\n",
       "      <td>1</td>\n",
       "    </tr>\n",
       "    <tr>\n",
       "      <th>27</th>\n",
       "      <td>0</td>\n",
       "    </tr>\n",
       "    <tr>\n",
       "      <th>28</th>\n",
       "      <td>3</td>\n",
       "    </tr>\n",
       "    <tr>\n",
       "      <th>29</th>\n",
       "      <td>2</td>\n",
       "    </tr>\n",
       "    <tr>\n",
       "      <th>...</th>\n",
       "      <td>...</td>\n",
       "    </tr>\n",
       "    <tr>\n",
       "      <th>145</th>\n",
       "      <td>0</td>\n",
       "    </tr>\n",
       "    <tr>\n",
       "      <th>146</th>\n",
       "      <td>2</td>\n",
       "    </tr>\n",
       "    <tr>\n",
       "      <th>147</th>\n",
       "      <td>3</td>\n",
       "    </tr>\n",
       "    <tr>\n",
       "      <th>148</th>\n",
       "      <td>1</td>\n",
       "    </tr>\n",
       "    <tr>\n",
       "      <th>149</th>\n",
       "      <td>0</td>\n",
       "    </tr>\n",
       "    <tr>\n",
       "      <th>150</th>\n",
       "      <td>0</td>\n",
       "    </tr>\n",
       "    <tr>\n",
       "      <th>151</th>\n",
       "      <td>1</td>\n",
       "    </tr>\n",
       "    <tr>\n",
       "      <th>152</th>\n",
       "      <td>0</td>\n",
       "    </tr>\n",
       "    <tr>\n",
       "      <th>153</th>\n",
       "      <td>2</td>\n",
       "    </tr>\n",
       "    <tr>\n",
       "      <th>154</th>\n",
       "      <td>0</td>\n",
       "    </tr>\n",
       "    <tr>\n",
       "      <th>155</th>\n",
       "      <td>0</td>\n",
       "    </tr>\n",
       "    <tr>\n",
       "      <th>156</th>\n",
       "      <td>3</td>\n",
       "    </tr>\n",
       "    <tr>\n",
       "      <th>157</th>\n",
       "      <td>1</td>\n",
       "    </tr>\n",
       "    <tr>\n",
       "      <th>158</th>\n",
       "      <td>0</td>\n",
       "    </tr>\n",
       "    <tr>\n",
       "      <th>159</th>\n",
       "      <td>1</td>\n",
       "    </tr>\n",
       "    <tr>\n",
       "      <th>160</th>\n",
       "      <td>0</td>\n",
       "    </tr>\n",
       "    <tr>\n",
       "      <th>161</th>\n",
       "      <td>3</td>\n",
       "    </tr>\n",
       "    <tr>\n",
       "      <th>162</th>\n",
       "      <td>0</td>\n",
       "    </tr>\n",
       "    <tr>\n",
       "      <th>163</th>\n",
       "      <td>2</td>\n",
       "    </tr>\n",
       "    <tr>\n",
       "      <th>164</th>\n",
       "      <td>0</td>\n",
       "    </tr>\n",
       "    <tr>\n",
       "      <th>165</th>\n",
       "      <td>0</td>\n",
       "    </tr>\n",
       "    <tr>\n",
       "      <th>166</th>\n",
       "      <td>1</td>\n",
       "    </tr>\n",
       "    <tr>\n",
       "      <th>167</th>\n",
       "      <td>0</td>\n",
       "    </tr>\n",
       "    <tr>\n",
       "      <th>168</th>\n",
       "      <td>3</td>\n",
       "    </tr>\n",
       "    <tr>\n",
       "      <th>169</th>\n",
       "      <td>2</td>\n",
       "    </tr>\n",
       "    <tr>\n",
       "      <th>170</th>\n",
       "      <td>1</td>\n",
       "    </tr>\n",
       "    <tr>\n",
       "      <th>171</th>\n",
       "      <td>0</td>\n",
       "    </tr>\n",
       "    <tr>\n",
       "      <th>172</th>\n",
       "      <td>0</td>\n",
       "    </tr>\n",
       "    <tr>\n",
       "      <th>173</th>\n",
       "      <td>1</td>\n",
       "    </tr>\n",
       "    <tr>\n",
       "      <th>174</th>\n",
       "      <td>0</td>\n",
       "    </tr>\n",
       "  </tbody>\n",
       "</table>\n",
       "<p>175 rows × 1 columns</p>\n",
       "</div>"
      ],
      "text/plain": [
       "    performance\n",
       "0             3\n",
       "1             0\n",
       "2             1\n",
       "3             2\n",
       "4             0\n",
       "5             0\n",
       "6             0\n",
       "7             1\n",
       "8             2\n",
       "9             1\n",
       "10            0\n",
       "11            0\n",
       "12            3\n",
       "13            0\n",
       "14            1\n",
       "15            0\n",
       "16            1\n",
       "17            1\n",
       "18            2\n",
       "19            0\n",
       "20            0\n",
       "21            0\n",
       "22            0\n",
       "23            1\n",
       "24            0\n",
       "25            0\n",
       "26            1\n",
       "27            0\n",
       "28            3\n",
       "29            2\n",
       "..          ...\n",
       "145           0\n",
       "146           2\n",
       "147           3\n",
       "148           1\n",
       "149           0\n",
       "150           0\n",
       "151           1\n",
       "152           0\n",
       "153           2\n",
       "154           0\n",
       "155           0\n",
       "156           3\n",
       "157           1\n",
       "158           0\n",
       "159           1\n",
       "160           0\n",
       "161           3\n",
       "162           0\n",
       "163           2\n",
       "164           0\n",
       "165           0\n",
       "166           1\n",
       "167           0\n",
       "168           3\n",
       "169           2\n",
       "170           1\n",
       "171           0\n",
       "172           0\n",
       "173           1\n",
       "174           0\n",
       "\n",
       "[175 rows x 1 columns]"
      ]
     },
     "execution_count": 6,
     "metadata": {},
     "output_type": "execute_result"
    }
   ],
   "source": [
    "# Creating performance levels 0,1,2 and 3 based on games won in the playoffs and creating two datafames df1 containing input variables\n",
    "#and df2 containing output performance\n",
    "bins=[-1,2,6,10,11]\n",
    "group_names=['0','1','2','3']\n",
    "df1['performance']=pd.cut(df1['playoff_wins'],bins,labels=group_names)\n",
    "df2=df1[[\"performance\"]]\n"
   ]
  },
  {
   "cell_type": "code",
   "execution_count": 7,
   "metadata": {
    "collapsed": false
   },
   "outputs": [
    {
     "data": {
      "text/plain": [
       "Index(['year', 'Tm', 'playoff_wins', 'world_series_ind', 'round', 'hit_numBat',\n",
       "       'hit_BatAge', 'hit_RG', 'hit_G', 'hit_PA', 'hit_AB', 'hit_R_scored',\n",
       "       'hit_H', 'hit_2B', 'hit_3B', 'hit_HR', 'hit_RBI', 'hit_SB', 'hit_CS',\n",
       "       'hit_BB', 'hit_SO', 'hit_BA', 'hit_OBP', 'hit_SLG', 'hit_OPS',\n",
       "       'hit_OPS+', 'hit_TB', 'hit_GDP', 'hit_HBP', 'hit_SH', 'hit_SF',\n",
       "       'hit_IBB', 'hit_LOB', 'pitch_numP', 'pitch_PAge', 'pitch_RAG',\n",
       "       'pitch_W', 'pitch_L', 'pitch_WL', 'pitch_ERA', 'pitch_G', 'pitch_GS',\n",
       "       'pitch_GF', 'pitch_CG', 'pitch_tSho', 'pitch_cSho', 'pitch_SV',\n",
       "       'pitch_IP', 'pitch_H', 'pitch_R_allowed', 'pitch_ER', 'pitch_HR',\n",
       "       'pitch_BB', 'pitch_IBB', 'pitch_SO', 'pitch_HBP', 'pitch_BK',\n",
       "       'pitch_WP', 'pitch_BF', 'pitch_ERAplus', 'pitch_FIP', 'pitch_WHIP',\n",
       "       'pitch_H9', 'pitch_HR9', 'pitch_BB9', 'pitch_SO9', 'pitch_SOW',\n",
       "       'pitch_LOB', 'performance'],\n",
       "      dtype='object')"
      ]
     },
     "execution_count": 7,
     "metadata": {},
     "output_type": "execute_result"
    }
   ],
   "source": [
    "df1.columns"
   ]
  },
  {
   "cell_type": "code",
   "execution_count": 8,
   "metadata": {
    "collapsed": true
   },
   "outputs": [],
   "source": [
    "# Removing unwanted columns from input variables\n",
    "df1.drop([\"round\",\"playoff_wins\",\"performance\",\"Tm\",\"world_series_ind\"],axis=1,inplace=True)"
   ]
  },
  {
   "cell_type": "code",
   "execution_count": 9,
   "metadata": {
    "collapsed": false
   },
   "outputs": [
    {
     "name": "stdout",
     "output_type": "stream",
     "text": [
      "Features sorted by their rank:\n",
      "[(1, 'hit_OBP'), (2, 'hit_OPS'), (3, 'hit_SLG'), (4, 'hit_BA'), (5, 'pitch_WHIP'), (6, 'pitch_BB9'), (7, 'pitch_H9'), (8, 'pitch_HR9'), (9, 'pitch_FIP'), (10, 'pitch_WL'), (11, 'hit_RG'), (12, 'pitch_ERA'), (13, 'pitch_SOW'), (14, 'pitch_SO9'), (15, 'pitch_W'), (16, 'pitch_GS'), (17, 'pitch_G'), (18, 'hit_G'), (19, 'pitch_RAG'), (20, 'pitch_PAge'), (21, 'pitch_CG'), (22, 'pitch_GF'), (23, 'hit_BatAge'), (24, 'pitch_ER'), (25, 'pitch_H'), (26, 'pitch_BB'), (27, 'pitch_IP'), (28, 'pitch_cSho'), (29, 'pitch_BK'), (30, 'hit_H'), (31, 'hit_AB'), (32, 'hit_SF'), (33, 'hit_SH'), (34, 'hit_PA'), (35, 'pitch_L'), (36, 'pitch_SO'), (37, 'hit_LOB'), (38, 'pitch_LOB'), (39, 'pitch_BF'), (40, 'pitch_R_allowed'), (41, 'hit_TB'), (42, 'hit_RBI'), (43, 'pitch_tSho'), (44, 'hit_HR'), (45, 'pitch_numP'), (46, 'hit_BB'), (47, 'hit_HBP'), (48, 'hit_GDP'), (49, 'year'), (50, 'hit_CS'), (51, 'pitch_WP'), (52, 'pitch_HBP'), (53, 'hit_R_scored'), (54, 'hit_2B'), (55, 'pitch_HR'), (56, 'pitch_ERAplus'), (57, 'pitch_IBB'), (58, 'hit_3B'), (59, 'hit_OPS+'), (60, 'hit_SB'), (61, 'hit_SO'), (62, 'pitch_SV'), (63, 'hit_numBat'), (64, 'hit_IBB')]\n"
     ]
    },
    {
     "name": "stderr",
     "output_type": "stream",
     "text": [
      "/usr/lib64/python3.4/site-packages/sklearn/utils/validation.py:526: DataConversionWarning: A column-vector y was passed when a 1d array was expected. Please change the shape of y to (n_samples, ), for example using ravel().\n",
      "  y = column_or_1d(y, warn=True)\n"
     ]
    }
   ],
   "source": [
    "#use linear regression as the model for feature selection\n",
    "from sklearn.feature_selection import RFE\n",
    "from sklearn.linear_model import LinearRegression\n",
    "name=df1.columns.values\n",
    "name\n",
    "lr = LinearRegression()\n",
    "#rank all features, i.e continue the elimination until the last one\n",
    "rfe = RFE(lr, n_features_to_select=1)\n",
    "rfe.fit(df1,df2)\n",
    "print (\"Features sorted by their rank:\")\n",
    "print (sorted(zip(map(lambda x: round(x, 4), rfe.ranking_),name)))"
   ]
  },
  {
   "cell_type": "code",
   "execution_count": 10,
   "metadata": {
    "collapsed": false
   },
   "outputs": [
    {
     "name": "stdout",
     "output_type": "stream",
     "text": [
      "[(0.027300000000000001, 'hit_BatAge'), (0.026800000000000001, 'hit_3B'), (0.0253, 'pitch_H9'), (0.025100000000000001, 'pitch_WP'), (0.024899999999999999, 'hit_SH'), (0.0246, 'pitch_W'), (0.024, 'hit_BA'), (0.023900000000000001, 'hit_LOB'), (0.022599999999999999, 'pitch_PAge'), (0.022499999999999999, 'pitch_HBP'), (0.022499999999999999, 'hit_TB'), (0.0224, 'hit_2B'), (0.020899999999999998, 'hit_BB'), (0.0201, 'pitch_SOW'), (0.019599999999999999, 'pitch_tSho'), (0.0189, 'pitch_WHIP'), (0.0184, 'hit_GDP'), (0.018100000000000002, 'pitch_CG'), (0.017899999999999999, 'pitch_R_allowed'), (0.017600000000000001, 'pitch_IBB'), (0.017600000000000001, 'hit_IBB'), (0.017500000000000002, 'pitch_SV'), (0.0172, 'pitch_BK'), (0.017000000000000001, 'hit_OPS+'), (0.016799999999999999, 'pitch_BB'), (0.016400000000000001, 'pitch_numP'), (0.016400000000000001, 'pitch_H'), (0.016299999999999999, 'hit_HBP'), (0.0161, 'pitch_ERA'), (0.0161, 'hit_HR'), (0.015900000000000001, 'pitch_ERAplus'), (0.015699999999999999, 'pitch_LOB'), (0.015699999999999999, 'hit_OPS'), (0.015599999999999999, 'pitch_SO'), (0.015299999999999999, 'pitch_BB9'), (0.014500000000000001, 'pitch_HR9'), (0.014500000000000001, 'pitch_ER'), (0.0144, 'hit_CS'), (0.014, 'hit_SO'), (0.013299999999999999, 'pitch_RAG'), (0.0132, 'hit_RBI'), (0.0126, 'hit_AB'), (0.0123, 'hit_SB'), (0.0121, 'hit_numBat'), (0.012, 'pitch_SO9'), (0.012, 'pitch_BF'), (0.012, 'hit_RG'), (0.011599999999999999, 'hit_SLG'), (0.0115, 'year'), (0.0115, 'hit_H'), (0.0112, 'hit_OBP'), (0.010500000000000001, 'pitch_IP'), (0.010500000000000001, 'hit_G'), (0.010200000000000001, 'pitch_GF'), (0.0097999999999999997, 'pitch_FIP'), (0.0092999999999999992, 'pitch_G'), (0.0088000000000000005, 'hit_SF'), (0.0086, 'pitch_cSho'), (0.0086, 'hit_PA'), (0.0077999999999999996, 'pitch_WL'), (0.0077999999999999996, 'hit_R_scored'), (0.0071999999999999998, 'pitch_L'), (0.0068999999999999999, 'pitch_HR'), (0.0025000000000000001, 'pitch_GS')]\n"
     ]
    },
    {
     "name": "stderr",
     "output_type": "stream",
     "text": [
      "/usr/lib/python3.4/site-packages/ipykernel/__main__.py:6: DataConversionWarning: A column-vector y was passed when a 1d array was expected. Please change the shape of y to (n_samples,), for example using ravel().\n"
     ]
    }
   ],
   "source": [
    "# Feature Selection using Extra Tree Classifier\n",
    "from sklearn import metrics\n",
    "from sklearn.ensemble import ExtraTreesClassifier\n",
    "# fit an Extra Trees model to the data\n",
    "model = ExtraTreesClassifier()\n",
    "model.fit(df1,df2)\n",
    "#y=k_scores.append(x.mean())\n",
    "# display the relative importance of each attribute\n",
    "print (sorted(zip(map(lambda x: round(x, 4), model.feature_importances_),name), \n",
    "             reverse=True))"
   ]
  },
  {
   "cell_type": "code",
   "execution_count": 11,
   "metadata": {
    "collapsed": false
   },
   "outputs": [
    {
     "name": "stdout",
     "output_type": "stream",
     "text": [
      "Features sorted by their score:\n",
      "[(0.077200000000000005, 'pitch_HBP'), (0.061400000000000003, 'pitch_PAge'), (0.059400000000000001, 'hit_BB'), (0.0511, 'hit_3B'), (0.039399999999999998, 'pitch_WP'), (0.039100000000000003, 'pitch_IBB'), (0.039100000000000003, 'hit_BatAge'), (0.037499999999999999, 'hit_CS'), (0.033700000000000001, 'hit_SO'), (0.030099999999999998, 'pitch_ER'), (0.0293, 'pitch_WHIP'), (0.027400000000000001, 'pitch_SV'), (0.0218, 'hit_SH'), (0.020199999999999999, 'pitch_IP'), (0.020199999999999999, 'pitch_ERAplus'), (0.02, 'hit_R_scored'), (0.019199999999999998, 'hit_SB'), (0.0189, 'pitch_H'), (0.018499999999999999, 'pitch_HR'), (0.017899999999999999, 'pitch_H9'), (0.0178, 'pitch_W'), (0.017500000000000002, 'pitch_FIP'), (0.0154, 'hit_IBB'), (0.0147, 'hit_HR'), (0.0143, 'hit_SLG'), (0.012800000000000001, 'pitch_BF'), (0.012200000000000001, 'pitch_SO'), (0.0117, 'hit_H'), (0.0114, 'hit_OPS+'), (0.0111, 'pitch_WL'), (0.010699999999999999, 'pitch_BK'), (0.0104, 'pitch_SO9'), (0.010200000000000001, 'hit_RBI'), (0.0101, 'pitch_LOB'), (0.0092999999999999992, 'pitch_tSho'), (0.0091000000000000004, 'pitch_BB'), (0.0088000000000000005, 'year'), (0.0088000000000000005, 'pitch_G'), (0.0086999999999999994, 'hit_GDP'), (0.0083000000000000001, 'hit_TB'), (0.0083000000000000001, 'hit_SF'), (0.0082000000000000007, 'hit_LOB'), (0.0077000000000000002, 'hit_PA'), (0.0068999999999999999, 'pitch_ERA'), (0.0064000000000000003, 'hit_G'), (0.0061999999999999998, 'pitch_numP'), (0.0061999999999999998, 'hit_HBP'), (0.0047999999999999996, 'hit_numBat'), (0.0041999999999999997, 'hit_AB'), (0.0041000000000000003, 'hit_OBP'), (0.0040000000000000001, 'hit_2B'), (0.0032000000000000002, 'pitch_SOW'), (0.0030000000000000001, 'pitch_BB9'), (0.0022000000000000001, 'pitch_R_allowed'), (0.0018, 'pitch_HR9'), (0.0018, 'hit_BA'), (0.0012999999999999999, 'pitch_L'), (0.0011999999999999999, 'hit_OPS'), (0.0011000000000000001, 'pitch_CG'), (0.001, 'pitch_RAG'), (0.00080000000000000004, 'hit_RG'), (0.00040000000000000002, 'pitch_cSho'), (0.00040000000000000002, 'pitch_GF'), (0.0, 'pitch_GS')]\n"
     ]
    },
    {
     "name": "stderr",
     "output_type": "stream",
     "text": [
      "/usr/lib/python3.4/site-packages/ipykernel/__main__.py:4: DataConversionWarning: A column-vector y was passed when a 1d array was expected. Please change the shape of y to (n_samples,), for example using ravel().\n"
     ]
    }
   ],
   "source": [
    "#Feature selection using Random Forest Regressor\n",
    "from sklearn.ensemble import RandomForestRegressor\n",
    "import numpy as np\n",
    "rf = RandomForestRegressor()\n",
    "rf.fit(df1, df2)\n",
    "print (\"Features sorted by their score:\")\n",
    "print (sorted(zip(map(lambda x: round(x, 4), rf.feature_importances_), name), \n",
    "             reverse=True))"
   ]
  },
  {
   "cell_type": "code",
   "execution_count": 17,
   "metadata": {
    "collapsed": false
   },
   "outputs": [
    {
     "data": {
      "text/html": [
       "<div>\n",
       "<table border=\"1\" class=\"dataframe\">\n",
       "  <thead>\n",
       "    <tr style=\"text-align: right;\">\n",
       "      <th></th>\n",
       "      <th>performance</th>\n",
       "    </tr>\n",
       "  </thead>\n",
       "  <tbody>\n",
       "    <tr>\n",
       "      <th>167</th>\n",
       "      <td>0</td>\n",
       "    </tr>\n",
       "    <tr>\n",
       "      <th>168</th>\n",
       "      <td>3</td>\n",
       "    </tr>\n",
       "    <tr>\n",
       "      <th>169</th>\n",
       "      <td>2</td>\n",
       "    </tr>\n",
       "    <tr>\n",
       "      <th>170</th>\n",
       "      <td>1</td>\n",
       "    </tr>\n",
       "    <tr>\n",
       "      <th>171</th>\n",
       "      <td>0</td>\n",
       "    </tr>\n",
       "    <tr>\n",
       "      <th>172</th>\n",
       "      <td>0</td>\n",
       "    </tr>\n",
       "    <tr>\n",
       "      <th>173</th>\n",
       "      <td>1</td>\n",
       "    </tr>\n",
       "    <tr>\n",
       "      <th>174</th>\n",
       "      <td>0</td>\n",
       "    </tr>\n",
       "  </tbody>\n",
       "</table>\n",
       "</div>"
      ],
      "text/plain": [
       "    performance\n",
       "167           0\n",
       "168           3\n",
       "169           2\n",
       "170           1\n",
       "171           0\n",
       "172           0\n",
       "173           1\n",
       "174           0"
      ]
     },
     "execution_count": 17,
     "metadata": {},
     "output_type": "execute_result"
    }
   ],
   "source": [
    "#Using top 29 columns based on Linear Regression Model(Recursive Feature Elimination) to predict the\n",
    "#performance of different teams \n",
    "# Dividing data into test and train \n",
    "columns=['hit_OBP','hit_OPS','hit_SLG','hit_BA','pitch_WHIP','pitch_BB9','pitch_H9','pitch_HR9','pitch_FIP','pitch_WL',\n",
    "         'hit_RG','pitch_ERA','pitch_SOW','pitch_SO9','pitch_W','pitch_GS','pitch_G','hit_G','pitch_RAG','pitch_PAge',\n",
    "         'pitch_CG','pitch_GF','hit_BatAge','pitch_ER','pitch_H','pitch_BB','pitch_IP','pitch_cSho','pitch_BK']\n",
    "features=df1[list(columns)]\n",
    "x_train,x_test=features[:167],features[167:]\n",
    "y_train,y_test=df2[:167],df2[167:]\n",
    "y_test"
   ]
  },
  {
   "cell_type": "code",
   "execution_count": 14,
   "metadata": {
    "collapsed": false
   },
   "outputs": [
    {
     "name": "stderr",
     "output_type": "stream",
     "text": [
      "/usr/lib/python3.4/site-packages/ipykernel/__main__.py:9: DataConversionWarning: A column-vector y was passed when a 1d array was expected. Please change the shape of y to (n_samples, ), for example using ravel().\n",
      "/usr/lib64/python3.4/site-packages/sklearn/externals/joblib/parallel.py:131: VisibleDeprecationWarning: using a non-integer number instead of an integer will result in an error in the future\n",
      "  return [func(*args, **kwargs) for func, args, kwargs in self.items]\n"
     ]
    },
    {
     "data": {
      "text/plain": [
       "<matplotlib.text.Text at 0x7f5de8e221d0>"
      ]
     },
     "execution_count": 14,
     "metadata": {},
     "output_type": "execute_result"
    },
    {
     "data": {
      "image/png": "[encoded data removed]",
      "text/plain": [
       "<matplotlib.figure.Figure at 0x7f5debf17e10>"
      ]
     },
     "metadata": {},
     "output_type": "display_data"
    }
   ],
   "source": [
    "#Plotting graph between k-nearest neighbor and accuracy\n",
    "from sklearn.neighbors import KNeighborsClassifier\n",
    "import numpy as np\n",
    "k_range=np.linspace(start=1,stop=15, num=10)\n",
    "\n",
    "scores=[]\n",
    "for k in k_range:\n",
    "\n",
    "    knn=KNeighborsClassifier(n_neighbors=k)\n",
    "    knn.fit(x_train,y_train)\n",
    "    y_pred=knn.predict(x_test)\n",
    "    scores.append(metrics.accuracy_score(y_test,y_pred))\n",
    "    \n",
    "    \n",
    "import matplotlib.pyplot as plt\n",
    "%matplotlib inline\n",
    "plt.plot(k_range,scores)\n",
    "plt.xlabel('value of k for knn')\n",
    "plt.ylabel('Testing accuracy')"
   ]
  },
  {
   "cell_type": "code",
   "execution_count": 23,
   "metadata": {
    "collapsed": false
   },
   "outputs": [
    {
     "name": "stdout",
     "output_type": "stream",
     "text": [
      "0.5\n",
      "0.125\n",
      "0.25\n",
      "0.166666666667\n",
      "    performance\n",
      "167           0\n",
      "168           3\n",
      "169           2\n",
      "170           1\n",
      "171           0\n",
      "172           0\n",
      "173           1\n",
      "174           0\n",
      "['0' '0' '0' '0' '0' '0' '0' '0']\n"
     ]
    },
    {
     "name": "stderr",
     "output_type": "stream",
     "text": [
      "/usr/lib/python3.4/site-packages/ipykernel/__main__.py:8: DataConversionWarning: A column-vector y was passed when a 1d array was expected. Please change the shape of y to (n_samples, ), for example using ravel().\n",
      "/usr/lib64/python3.4/site-packages/sklearn/metrics/classification.py:1113: UndefinedMetricWarning: Precision is ill-defined and being set to 0.0 in labels with no predicted samples.\n",
      "  'precision', 'predicted', average, warn_for)\n",
      "/usr/lib64/python3.4/site-packages/sklearn/metrics/classification.py:1113: UndefinedMetricWarning: F-score is ill-defined and being set to 0.0 in labels with no predicted samples.\n",
      "  'precision', 'predicted', average, warn_for)\n"
     ]
    }
   ],
   "source": [
    "### Applying knn model on fist 29 features features to predict performance of different teams for year 2016\n",
    "from sklearn.metrics import recall_score\n",
    "from sklearn.metrics import f1_score\n",
    "\n",
    "\n",
    "from sklearn import metrics\n",
    "knn=KNeighborsClassifier(n_neighbors=2)\n",
    "knn.fit(x_train,y_train)\n",
    "y_pred=knn.predict(x_test)\n",
    "print(metrics.accuracy_score(y_test,y_pred))\n",
    "print(metrics.precision_score(y_test,y_pred,average='macro'))\n",
    "print(metrics.recall_score(y_test, y_pred, average='macro'))\n",
    "print(metrics.f1_score(y_test, y_pred, average='macro'))\n",
    "print(y_test)\n",
    "print(y_pred)"
   ]
  },
  {
   "cell_type": "code",
   "execution_count": 24,
   "metadata": {
    "collapsed": false
   },
   "outputs": [
    {
     "name": "stdout",
     "output_type": "stream",
     "text": [
      "0.625\n",
      "0.525\n",
      "0.5625\n",
      "0.541666666667\n",
      "    performance\n",
      "167           0\n",
      "168           3\n",
      "169           2\n",
      "170           1\n",
      "171           0\n",
      "172           0\n",
      "173           1\n",
      "174           0\n",
      "['1' '3' '0' '1' '0' '0' '0' '0']\n"
     ]
    },
    {
     "name": "stderr",
     "output_type": "stream",
     "text": [
      "/usr/lib64/python3.4/site-packages/sklearn/utils/validation.py:526: DataConversionWarning: A column-vector y was passed when a 1d array was expected. Please change the shape of y to (n_samples, ), for example using ravel().\n",
      "  y = column_or_1d(y, warn=True)\n",
      "/usr/lib64/python3.4/site-packages/sklearn/metrics/classification.py:1113: UndefinedMetricWarning: Precision is ill-defined and being set to 0.0 in labels with no predicted samples.\n",
      "  'precision', 'predicted', average, warn_for)\n",
      "/usr/lib64/python3.4/site-packages/sklearn/metrics/classification.py:1113: UndefinedMetricWarning: F-score is ill-defined and being set to 0.0 in labels with no predicted samples.\n",
      "  'precision', 'predicted', average, warn_for)\n"
     ]
    }
   ],
   "source": [
    "#Applying Logistic Regression on same x_train,y_train,x_test and y_test\n",
    "from pandas import *    \n",
    "from sklearn.metrics import recall_score\n",
    "from sklearn.linear_model import LogisticRegression\n",
    "from sklearn.metrics import f1_score\n",
    "from sklearn.metrics import precision_score\n",
    "logreg=LogisticRegression()\n",
    "logreg.fit(x_train,y_train)\n",
    "y_pred=logreg.predict(x_test)\n",
    "print(metrics.accuracy_score(y_test,y_pred))\n",
    "print(metrics.precision_score(y_test,y_pred,average='macro'))\n",
    "print(metrics.recall_score(y_test, y_pred, average='macro'))\n",
    "print(metrics.f1_score(y_test, y_pred, average='macro'))\n",
    "print(y_test)\n",
    "print(y_pred)"
   ]
  }
 ],
 "metadata": {
  "kernelspec": {
   "display_name": "Python 3",
   "language": "python",
   "name": "python3"
  },
  "language_info": {
   "codemirror_mode": {
    "name": "ipython",
    "version": 3
   },
   "file_extension": ".py",
   "mimetype": "text/x-python",
   "name": "python",
   "nbconvert_exporter": "python",
   "pygments_lexer": "ipython3",
   "version": "3.4.3"
  }
 },
 "nbformat": 4,
 "nbformat_minor": 0
}
